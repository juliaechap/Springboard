{
 "cells": [
  {
   "cell_type": "markdown",
   "id": "a6916cfe",
   "metadata": {},
   "source": [
    "# Part 1: Exploratory Data Analysis"
   ]
  },
  {
   "cell_type": "code",
   "execution_count": 1,
   "id": "00b1eaef",
   "metadata": {},
   "outputs": [],
   "source": [
    "import pandas as pd \n",
    "import matplotlib.pyplot as plt\n",
    "import numpy as np \n",
    "from datetime import timedelta\n",
    "import seaborn as sns\n",
    "from scipy.stats import chi2_contingency\n",
    "from scipy.stats import norm \n",
    "import math\n",
    "from scipy import stats\n",
    "from scipy.stats import t\n",
    "from sklearn.preprocessing import MinMaxScaler\n",
    "from sklearn.compose import ColumnTransformer\n",
    "from sklearn.model_selection import train_test_split\n",
    "from sklearn.metrics import roc_auc_score\n",
    "from sklearn.metrics import f1_score\n",
    "import itertools\n",
    "from sklearn.metrics import confusion_matrix\n",
    "from sklearn.metrics import roc_curve\n",
    "from sklearn import svm, datasets"
   ]
  },
  {
   "cell_type": "code",
   "execution_count": 2,
   "id": "46ee8b1f",
   "metadata": {},
   "outputs": [],
   "source": [
    "pd.reset_option('display.max_rows',None)"
   ]
  },
  {
   "cell_type": "code",
   "execution_count": 3,
   "id": "a2de0e39",
   "metadata": {},
   "outputs": [],
   "source": [
    "logins = pd.read_json('logins.json')"
   ]
  },
  {
   "cell_type": "code",
   "execution_count": 4,
   "id": "8e1bd030",
   "metadata": {},
   "outputs": [
    {
     "data": {
      "text/plain": [
       "(93142, 1)"
      ]
     },
     "execution_count": 4,
     "metadata": {},
     "output_type": "execute_result"
    }
   ],
   "source": [
    "logins.shape"
   ]
  },
  {
   "cell_type": "code",
   "execution_count": 5,
   "id": "e0ea73db",
   "metadata": {},
   "outputs": [
    {
     "data": {
      "text/plain": [
       "login_time    datetime64[ns]\n",
       "dtype: object"
      ]
     },
     "execution_count": 5,
     "metadata": {},
     "output_type": "execute_result"
    }
   ],
   "source": [
    "logins.dtypes"
   ]
  },
  {
   "cell_type": "code",
   "execution_count": 6,
   "id": "d33159e2",
   "metadata": {},
   "outputs": [],
   "source": [
    "logins['count'] = 1"
   ]
  },
  {
   "cell_type": "code",
   "execution_count": 7,
   "id": "17c61d20",
   "metadata": {},
   "outputs": [],
   "source": [
    "logins.set_index('login_time',inplace=True)"
   ]
  },
  {
   "cell_type": "code",
   "execution_count": 8,
   "id": "8d5cdef1",
   "metadata": {},
   "outputs": [
    {
     "data": {
      "text/html": [
       "<div>\n",
       "<style scoped>\n",
       "    .dataframe tbody tr th:only-of-type {\n",
       "        vertical-align: middle;\n",
       "    }\n",
       "\n",
       "    .dataframe tbody tr th {\n",
       "        vertical-align: top;\n",
       "    }\n",
       "\n",
       "    .dataframe thead th {\n",
       "        text-align: right;\n",
       "    }\n",
       "</style>\n",
       "<table border=\"1\" class=\"dataframe\">\n",
       "  <thead>\n",
       "    <tr style=\"text-align: right;\">\n",
       "      <th></th>\n",
       "      <th>count</th>\n",
       "    </tr>\n",
       "    <tr>\n",
       "      <th>login_time</th>\n",
       "      <th></th>\n",
       "    </tr>\n",
       "  </thead>\n",
       "  <tbody>\n",
       "    <tr>\n",
       "      <th>1970-01-01 20:13:18</th>\n",
       "      <td>1</td>\n",
       "    </tr>\n",
       "    <tr>\n",
       "      <th>1970-01-01 20:16:10</th>\n",
       "      <td>1</td>\n",
       "    </tr>\n",
       "    <tr>\n",
       "      <th>1970-01-01 20:16:37</th>\n",
       "      <td>1</td>\n",
       "    </tr>\n",
       "    <tr>\n",
       "      <th>1970-01-01 20:16:36</th>\n",
       "      <td>1</td>\n",
       "    </tr>\n",
       "    <tr>\n",
       "      <th>1970-01-01 20:26:21</th>\n",
       "      <td>1</td>\n",
       "    </tr>\n",
       "  </tbody>\n",
       "</table>\n",
       "</div>"
      ],
      "text/plain": [
       "                     count\n",
       "login_time                \n",
       "1970-01-01 20:13:18      1\n",
       "1970-01-01 20:16:10      1\n",
       "1970-01-01 20:16:37      1\n",
       "1970-01-01 20:16:36      1\n",
       "1970-01-01 20:26:21      1"
      ]
     },
     "execution_count": 8,
     "metadata": {},
     "output_type": "execute_result"
    }
   ],
   "source": [
    "logins.head()"
   ]
  },
  {
   "cell_type": "code",
   "execution_count": 9,
   "id": "f8ae25d1",
   "metadata": {},
   "outputs": [],
   "source": [
    "log_15 = logins.resample('15min').sum()"
   ]
  },
  {
   "cell_type": "markdown",
   "id": "95147cc7",
   "metadata": {},
   "source": [
    "data quality issue: \n",
    "* some times are out of order, listing a random 1970-01-02 log in time in the middle of 1970-01-01 times, similar thing happening with 03 and 02 -- might continue through the dataset? \n",
    "* There are 877 duplicates \n",
    "\n",
    "* not sure these are considered data quality issues -- duplicates aren't a problem because they are just showing multiple logins occuring at the same time "
   ]
  },
  {
   "cell_type": "code",
   "execution_count": 10,
   "id": "d2c6530c",
   "metadata": {},
   "outputs": [
    {
     "data": {
      "text/html": [
       "<div>\n",
       "<style scoped>\n",
       "    .dataframe tbody tr th:only-of-type {\n",
       "        vertical-align: middle;\n",
       "    }\n",
       "\n",
       "    .dataframe tbody tr th {\n",
       "        vertical-align: top;\n",
       "    }\n",
       "\n",
       "    .dataframe thead th {\n",
       "        text-align: right;\n",
       "    }\n",
       "</style>\n",
       "<table border=\"1\" class=\"dataframe\">\n",
       "  <thead>\n",
       "    <tr style=\"text-align: right;\">\n",
       "      <th></th>\n",
       "      <th>count</th>\n",
       "    </tr>\n",
       "    <tr>\n",
       "      <th>login_time</th>\n",
       "      <th></th>\n",
       "    </tr>\n",
       "  </thead>\n",
       "  <tbody>\n",
       "    <tr>\n",
       "      <th>1970-01-01 20:00:00</th>\n",
       "      <td>2</td>\n",
       "    </tr>\n",
       "    <tr>\n",
       "      <th>1970-01-01 20:15:00</th>\n",
       "      <td>6</td>\n",
       "    </tr>\n",
       "    <tr>\n",
       "      <th>1970-01-01 20:30:00</th>\n",
       "      <td>9</td>\n",
       "    </tr>\n",
       "    <tr>\n",
       "      <th>1970-01-01 20:45:00</th>\n",
       "      <td>7</td>\n",
       "    </tr>\n",
       "    <tr>\n",
       "      <th>1970-01-01 21:00:00</th>\n",
       "      <td>1</td>\n",
       "    </tr>\n",
       "    <tr>\n",
       "      <th>...</th>\n",
       "      <td>...</td>\n",
       "    </tr>\n",
       "    <tr>\n",
       "      <th>1970-04-13 17:45:00</th>\n",
       "      <td>5</td>\n",
       "    </tr>\n",
       "    <tr>\n",
       "      <th>1970-04-13 18:00:00</th>\n",
       "      <td>5</td>\n",
       "    </tr>\n",
       "    <tr>\n",
       "      <th>1970-04-13 18:15:00</th>\n",
       "      <td>2</td>\n",
       "    </tr>\n",
       "    <tr>\n",
       "      <th>1970-04-13 18:30:00</th>\n",
       "      <td>7</td>\n",
       "    </tr>\n",
       "    <tr>\n",
       "      <th>1970-04-13 18:45:00</th>\n",
       "      <td>6</td>\n",
       "    </tr>\n",
       "  </tbody>\n",
       "</table>\n",
       "<p>9788 rows × 1 columns</p>\n",
       "</div>"
      ],
      "text/plain": [
       "                     count\n",
       "login_time                \n",
       "1970-01-01 20:00:00      2\n",
       "1970-01-01 20:15:00      6\n",
       "1970-01-01 20:30:00      9\n",
       "1970-01-01 20:45:00      7\n",
       "1970-01-01 21:00:00      1\n",
       "...                    ...\n",
       "1970-04-13 17:45:00      5\n",
       "1970-04-13 18:00:00      5\n",
       "1970-04-13 18:15:00      2\n",
       "1970-04-13 18:30:00      7\n",
       "1970-04-13 18:45:00      6\n",
       "\n",
       "[9788 rows x 1 columns]"
      ]
     },
     "execution_count": 10,
     "metadata": {},
     "output_type": "execute_result"
    }
   ],
   "source": [
    "log_15"
   ]
  },
  {
   "cell_type": "code",
   "execution_count": 11,
   "id": "8530c445",
   "metadata": {},
   "outputs": [
    {
     "data": {
      "image/png": "[encoded data removed]",
      "text/plain": [
       "<Figure size 2000x800 with 1 Axes>"
      ]
     },
     "metadata": {},
     "output_type": "display_data"
    }
   ],
   "source": [
    "log_15.plot(figsize=(20,8))\n",
    "plt.show()"
   ]
  },
  {
   "cell_type": "code",
   "execution_count": 12,
   "id": "e16aee81",
   "metadata": {},
   "outputs": [],
   "source": [
    "log_15['Day_of_Month'] = log_15.index.day\n",
    "log_15['Day_of_Week'] = log_15.index.weekday"
   ]
  },
  {
   "cell_type": "code",
   "execution_count": 13,
   "id": "b2d96243",
   "metadata": {},
   "outputs": [],
   "source": [
    "log_15['time'] = log_15.index.time"
   ]
  },
  {
   "cell_type": "markdown",
   "id": "fa1fd947",
   "metadata": {},
   "source": [
    "data is a 4 month range (january - april). Looks like it is producing a sinusoidal trend with an increasing average towards the end "
   ]
  },
  {
   "cell_type": "code",
   "execution_count": 14,
   "id": "5de56c36",
   "metadata": {},
   "outputs": [
    {
     "data": {
      "text/html": [
       "<div>\n",
       "<style scoped>\n",
       "    .dataframe tbody tr th:only-of-type {\n",
       "        vertical-align: middle;\n",
       "    }\n",
       "\n",
       "    .dataframe tbody tr th {\n",
       "        vertical-align: top;\n",
       "    }\n",
       "\n",
       "    .dataframe thead th {\n",
       "        text-align: right;\n",
       "    }\n",
       "</style>\n",
       "<table border=\"1\" class=\"dataframe\">\n",
       "  <thead>\n",
       "    <tr style=\"text-align: right;\">\n",
       "      <th></th>\n",
       "      <th>count</th>\n",
       "      <th>Day_of_Month</th>\n",
       "      <th>Day_of_Week</th>\n",
       "    </tr>\n",
       "  </thead>\n",
       "  <tbody>\n",
       "    <tr>\n",
       "      <th>count</th>\n",
       "      <td>9788.000000</td>\n",
       "      <td>9788.000000</td>\n",
       "      <td>9788.000000</td>\n",
       "    </tr>\n",
       "    <tr>\n",
       "      <th>mean</th>\n",
       "      <td>9.515938</td>\n",
       "      <td>14.569268</td>\n",
       "      <td>3.035554</td>\n",
       "    </tr>\n",
       "    <tr>\n",
       "      <th>std</th>\n",
       "      <td>8.328818</td>\n",
       "      <td>8.683342</td>\n",
       "      <td>2.012722</td>\n",
       "    </tr>\n",
       "    <tr>\n",
       "      <th>min</th>\n",
       "      <td>0.000000</td>\n",
       "      <td>1.000000</td>\n",
       "      <td>0.000000</td>\n",
       "    </tr>\n",
       "    <tr>\n",
       "      <th>25%</th>\n",
       "      <td>3.000000</td>\n",
       "      <td>7.000000</td>\n",
       "      <td>1.000000</td>\n",
       "    </tr>\n",
       "    <tr>\n",
       "      <th>50%</th>\n",
       "      <td>7.000000</td>\n",
       "      <td>14.000000</td>\n",
       "      <td>3.000000</td>\n",
       "    </tr>\n",
       "    <tr>\n",
       "      <th>75%</th>\n",
       "      <td>13.000000</td>\n",
       "      <td>22.000000</td>\n",
       "      <td>5.000000</td>\n",
       "    </tr>\n",
       "    <tr>\n",
       "      <th>max</th>\n",
       "      <td>73.000000</td>\n",
       "      <td>31.000000</td>\n",
       "      <td>6.000000</td>\n",
       "    </tr>\n",
       "  </tbody>\n",
       "</table>\n",
       "</div>"
      ],
      "text/plain": [
       "             count  Day_of_Month  Day_of_Week\n",
       "count  9788.000000   9788.000000  9788.000000\n",
       "mean      9.515938     14.569268     3.035554\n",
       "std       8.328818      8.683342     2.012722\n",
       "min       0.000000      1.000000     0.000000\n",
       "25%       3.000000      7.000000     1.000000\n",
       "50%       7.000000     14.000000     3.000000\n",
       "75%      13.000000     22.000000     5.000000\n",
       "max      73.000000     31.000000     6.000000"
      ]
     },
     "execution_count": 14,
     "metadata": {},
     "output_type": "execute_result"
    }
   ],
   "source": [
    "log_15.describe()"
   ]
  },
  {
   "cell_type": "markdown",
   "id": "6d31c725",
   "metadata": {},
   "source": [
    "Looks like the median of the data is 7 logins per 15 minute interval, the mean value is a bit higher at 9.52 -- probably being pulled up by the higher average towards to the end of the 4-month range. "
   ]
  },
  {
   "cell_type": "code",
   "execution_count": 15,
   "id": "b11d1684",
   "metadata": {},
   "outputs": [
    {
     "data": {
      "text/html": [
       "<div>\n",
       "<style scoped>\n",
       "    .dataframe tbody tr th:only-of-type {\n",
       "        vertical-align: middle;\n",
       "    }\n",
       "\n",
       "    .dataframe tbody tr th {\n",
       "        vertical-align: top;\n",
       "    }\n",
       "\n",
       "    .dataframe thead th {\n",
       "        text-align: right;\n",
       "    }\n",
       "</style>\n",
       "<table border=\"1\" class=\"dataframe\">\n",
       "  <thead>\n",
       "    <tr style=\"text-align: right;\">\n",
       "      <th></th>\n",
       "      <th>count</th>\n",
       "      <th>Day_of_Month</th>\n",
       "      <th>Day_of_Week</th>\n",
       "      <th>time</th>\n",
       "    </tr>\n",
       "    <tr>\n",
       "      <th>login_time</th>\n",
       "      <th></th>\n",
       "      <th></th>\n",
       "      <th></th>\n",
       "      <th></th>\n",
       "    </tr>\n",
       "  </thead>\n",
       "  <tbody>\n",
       "    <tr>\n",
       "      <th>1970-03-01 04:30:00</th>\n",
       "      <td>73</td>\n",
       "      <td>1</td>\n",
       "      <td>6</td>\n",
       "      <td>04:30:00</td>\n",
       "    </tr>\n",
       "  </tbody>\n",
       "</table>\n",
       "</div>"
      ],
      "text/plain": [
       "                     count  Day_of_Month  Day_of_Week      time\n",
       "login_time                                                     \n",
       "1970-03-01 04:30:00     73             1            6  04:30:00"
      ]
     },
     "execution_count": 15,
     "metadata": {},
     "output_type": "execute_result"
    }
   ],
   "source": [
    "log_15.loc[log_15['count']==73]"
   ]
  },
  {
   "cell_type": "markdown",
   "id": "3a456b40",
   "metadata": {},
   "source": [
    "Max number of logins occured on march 1st ... at 4:30am ? "
   ]
  },
  {
   "cell_type": "code",
   "execution_count": 16,
   "id": "762090af",
   "metadata": {},
   "outputs": [
    {
     "data": {
      "text/plain": [
       "count    9788.000000\n",
       "mean       14.569268\n",
       "std         8.683342\n",
       "min         1.000000\n",
       "25%         7.000000\n",
       "50%        14.000000\n",
       "75%        22.000000\n",
       "max        31.000000\n",
       "Name: Day_of_Month, dtype: float64"
      ]
     },
     "execution_count": 16,
     "metadata": {},
     "output_type": "execute_result"
    }
   ],
   "source": [
    "#let's look at the overall stats for the dataset as a whole \n",
    "log_15['Day_of_Month'].describe()"
   ]
  },
  {
   "cell_type": "markdown",
   "id": "bc4c3591",
   "metadata": {},
   "source": [
    "Our average login days are occuring mid month -- 14.57th day of the month, median is 14. Tells us that a majority of logins are occuring towards the end of the month, lifting the mean up. (Not necessarily saying that the max login days are occuring at the end of the month, but a majority of logins are collectively occuring towards the end of the month)"
   ]
  },
  {
   "cell_type": "code",
   "execution_count": 17,
   "id": "fb21101d",
   "metadata": {},
   "outputs": [
    {
     "data": {
      "text/plain": [
       "count     31.000000\n",
       "mean     315.741935\n",
       "std       60.881835\n",
       "min      192.000000\n",
       "25%      288.000000\n",
       "50%      288.000000\n",
       "75%      384.000000\n",
       "max      384.000000\n",
       "Name: Day_of_Month, dtype: float64"
      ]
     },
     "execution_count": 17,
     "metadata": {},
     "output_type": "execute_result"
    }
   ],
   "source": [
    "log_15['Day_of_Month'].value_counts().describe()"
   ]
  },
  {
   "cell_type": "code",
   "execution_count": 18,
   "id": "0c8bd453",
   "metadata": {},
   "outputs": [
    {
     "data": {
      "text/plain": [
       "11    384\n",
       "3     384\n",
       "4     384\n",
       "5     384\n",
       "6     384\n",
       "7     384\n",
       "8     384\n",
       "9     384\n",
       "10    384\n",
       "2     384\n",
       "12    384\n",
       "13    364\n",
       "1     304\n",
       "28    288\n",
       "27    288\n",
       "22    288\n",
       "26    288\n",
       "25    288\n",
       "24    288\n",
       "23    288\n",
       "16    288\n",
       "21    288\n",
       "20    288\n",
       "19    288\n",
       "18    288\n",
       "17    288\n",
       "15    288\n",
       "14    288\n",
       "29    192\n",
       "30    192\n",
       "31    192\n",
       "Name: Day_of_Month, dtype: int64"
      ]
     },
     "execution_count": 18,
     "metadata": {},
     "output_type": "execute_result"
    }
   ],
   "source": [
    "log_15['Day_of_Month'].value_counts()"
   ]
  },
  {
   "cell_type": "code",
   "execution_count": 19,
   "id": "4d312b33",
   "metadata": {},
   "outputs": [
    {
     "data": {
      "text/plain": [
       "count    9788.000000\n",
       "mean        3.035554\n",
       "std         2.012722\n",
       "min         0.000000\n",
       "25%         1.000000\n",
       "50%         3.000000\n",
       "75%         5.000000\n",
       "max         6.000000\n",
       "Name: Day_of_Week, dtype: float64"
      ]
     },
     "execution_count": 19,
     "metadata": {},
     "output_type": "execute_result"
    }
   ],
   "source": [
    "log_15['Day_of_Week'].describe()"
   ]
  },
  {
   "cell_type": "code",
   "execution_count": 20,
   "id": "42d398ae",
   "metadata": {},
   "outputs": [
    {
     "data": {
      "text/plain": [
       "4    1440\n",
       "5    1440\n",
       "6    1440\n",
       "0    1420\n",
       "3    1360\n",
       "1    1344\n",
       "2    1344\n",
       "Name: Day_of_Week, dtype: int64"
      ]
     },
     "execution_count": 20,
     "metadata": {},
     "output_type": "execute_result"
    }
   ],
   "source": [
    "log_15['Day_of_Week'].value_counts()"
   ]
  },
  {
   "cell_type": "markdown",
   "id": "b2aad069",
   "metadata": {},
   "source": [
    "Pandas date time index day of the week function denotes Monday as 0 and Sunday as 6. We have logins occuring on Mondays in our dataset. Majority of logins are occuring Friday, Saturday, Sunday -- weekday logins are not much further behind these though. "
   ]
  },
  {
   "cell_type": "code",
   "execution_count": 21,
   "id": "4812b81b",
   "metadata": {},
   "outputs": [],
   "source": [
    "#create a dataset that is only peak values -- we'll use 99th percentile as peak.\n",
    "peak = np.quantile(log_15['count'],0.99)"
   ]
  },
  {
   "cell_type": "code",
   "execution_count": 22,
   "id": "e42ff27c",
   "metadata": {},
   "outputs": [],
   "source": [
    "peakdf = log_15.loc[log_15['count']>= peak]"
   ]
  },
  {
   "cell_type": "code",
   "execution_count": 23,
   "id": "99de9a52",
   "metadata": {},
   "outputs": [
    {
     "data": {
      "text/html": [
       "<div>\n",
       "<style scoped>\n",
       "    .dataframe tbody tr th:only-of-type {\n",
       "        vertical-align: middle;\n",
       "    }\n",
       "\n",
       "    .dataframe tbody tr th {\n",
       "        vertical-align: top;\n",
       "    }\n",
       "\n",
       "    .dataframe thead th {\n",
       "        text-align: right;\n",
       "    }\n",
       "</style>\n",
       "<table border=\"1\" class=\"dataframe\">\n",
       "  <thead>\n",
       "    <tr style=\"text-align: right;\">\n",
       "      <th></th>\n",
       "      <th>count</th>\n",
       "      <th>Day_of_Month</th>\n",
       "      <th>Day_of_Week</th>\n",
       "      <th>time</th>\n",
       "    </tr>\n",
       "    <tr>\n",
       "      <th>login_time</th>\n",
       "      <th></th>\n",
       "      <th></th>\n",
       "      <th></th>\n",
       "      <th></th>\n",
       "    </tr>\n",
       "  </thead>\n",
       "  <tbody>\n",
       "    <tr>\n",
       "      <th>1970-01-11 04:45:00</th>\n",
       "      <td>45</td>\n",
       "      <td>11</td>\n",
       "      <td>6</td>\n",
       "      <td>04:45:00</td>\n",
       "    </tr>\n",
       "    <tr>\n",
       "      <th>1970-01-18 02:15:00</th>\n",
       "      <td>38</td>\n",
       "      <td>18</td>\n",
       "      <td>6</td>\n",
       "      <td>02:15:00</td>\n",
       "    </tr>\n",
       "    <tr>\n",
       "      <th>1970-01-18 04:15:00</th>\n",
       "      <td>42</td>\n",
       "      <td>18</td>\n",
       "      <td>6</td>\n",
       "      <td>04:15:00</td>\n",
       "    </tr>\n",
       "    <tr>\n",
       "      <th>1970-02-06 22:30:00</th>\n",
       "      <td>38</td>\n",
       "      <td>6</td>\n",
       "      <td>4</td>\n",
       "      <td>22:30:00</td>\n",
       "    </tr>\n",
       "    <tr>\n",
       "      <th>1970-02-07 04:15:00</th>\n",
       "      <td>38</td>\n",
       "      <td>7</td>\n",
       "      <td>5</td>\n",
       "      <td>04:15:00</td>\n",
       "    </tr>\n",
       "    <tr>\n",
       "      <th>...</th>\n",
       "      <td>...</td>\n",
       "      <td>...</td>\n",
       "      <td>...</td>\n",
       "      <td>...</td>\n",
       "    </tr>\n",
       "    <tr>\n",
       "      <th>1970-04-12 03:00:00</th>\n",
       "      <td>39</td>\n",
       "      <td>12</td>\n",
       "      <td>6</td>\n",
       "      <td>03:00:00</td>\n",
       "    </tr>\n",
       "    <tr>\n",
       "      <th>1970-04-12 03:15:00</th>\n",
       "      <td>43</td>\n",
       "      <td>12</td>\n",
       "      <td>6</td>\n",
       "      <td>03:15:00</td>\n",
       "    </tr>\n",
       "    <tr>\n",
       "      <th>1970-04-12 03:45:00</th>\n",
       "      <td>38</td>\n",
       "      <td>12</td>\n",
       "      <td>6</td>\n",
       "      <td>03:45:00</td>\n",
       "    </tr>\n",
       "    <tr>\n",
       "      <th>1970-04-12 04:00:00</th>\n",
       "      <td>44</td>\n",
       "      <td>12</td>\n",
       "      <td>6</td>\n",
       "      <td>04:00:00</td>\n",
       "    </tr>\n",
       "    <tr>\n",
       "      <th>1970-04-12 04:45:00</th>\n",
       "      <td>45</td>\n",
       "      <td>12</td>\n",
       "      <td>6</td>\n",
       "      <td>04:45:00</td>\n",
       "    </tr>\n",
       "  </tbody>\n",
       "</table>\n",
       "<p>107 rows × 4 columns</p>\n",
       "</div>"
      ],
      "text/plain": [
       "                     count  Day_of_Month  Day_of_Week      time\n",
       "login_time                                                     \n",
       "1970-01-11 04:45:00     45            11            6  04:45:00\n",
       "1970-01-18 02:15:00     38            18            6  02:15:00\n",
       "1970-01-18 04:15:00     42            18            6  04:15:00\n",
       "1970-02-06 22:30:00     38             6            4  22:30:00\n",
       "1970-02-07 04:15:00     38             7            5  04:15:00\n",
       "...                    ...           ...          ...       ...\n",
       "1970-04-12 03:00:00     39            12            6  03:00:00\n",
       "1970-04-12 03:15:00     43            12            6  03:15:00\n",
       "1970-04-12 03:45:00     38            12            6  03:45:00\n",
       "1970-04-12 04:00:00     44            12            6  04:00:00\n",
       "1970-04-12 04:45:00     45            12            6  04:45:00\n",
       "\n",
       "[107 rows x 4 columns]"
      ]
     },
     "execution_count": 23,
     "metadata": {},
     "output_type": "execute_result"
    }
   ],
   "source": [
    "peakdf"
   ]
  },
  {
   "cell_type": "code",
   "execution_count": 24,
   "id": "fb5c9064",
   "metadata": {},
   "outputs": [
    {
     "data": {
      "text/plain": [
       "count    107.000000\n",
       "mean      13.570093\n",
       "std        9.046121\n",
       "min        1.000000\n",
       "25%        4.500000\n",
       "50%       12.000000\n",
       "75%       21.000000\n",
       "max       29.000000\n",
       "Name: Day_of_Month, dtype: float64"
      ]
     },
     "execution_count": 24,
     "metadata": {},
     "output_type": "execute_result"
    }
   ],
   "source": [
    "peakdf['Day_of_Month'].describe()"
   ]
  },
  {
   "cell_type": "markdown",
   "id": "6ee8ddef",
   "metadata": {},
   "source": [
    "looks like most logins are occuring closer to the middle of the month -- average = 13.57th day of the month / median = 12th day of the month Higher mean that median telling us that we are still having a collective majority of logins occuring towards the end of the month. "
   ]
  },
  {
   "cell_type": "code",
   "execution_count": 25,
   "id": "ab8e098f",
   "metadata": {},
   "outputs": [
    {
     "data": {
      "text/plain": [
       "count    21.000000\n",
       "mean      5.095238\n",
       "std       3.871754\n",
       "min       1.000000\n",
       "25%       2.000000\n",
       "50%       5.000000\n",
       "75%       7.000000\n",
       "max      18.000000\n",
       "Name: Day_of_Month, dtype: float64"
      ]
     },
     "execution_count": 25,
     "metadata": {},
     "output_type": "execute_result"
    }
   ],
   "source": [
    "peakdf['Day_of_Month'].value_counts().describe()"
   ]
  },
  {
   "cell_type": "code",
   "execution_count": 26,
   "id": "e26e8dda",
   "metadata": {},
   "outputs": [
    {
     "data": {
      "text/plain": [
       "4     18\n",
       "22     9\n",
       "29     9\n",
       "7      7\n",
       "8      7\n",
       "21     7\n",
       "1      6\n",
       "15     6\n",
       "28     6\n",
       "13     5\n",
       "12     5\n",
       "18     3\n",
       "17     3\n",
       "3      3\n",
       "11     3\n",
       "14     2\n",
       "27     2\n",
       "6      2\n",
       "5      2\n",
       "19     1\n",
       "10     1\n",
       "Name: Day_of_Month, dtype: int64"
      ]
     },
     "execution_count": 26,
     "metadata": {},
     "output_type": "execute_result"
    }
   ],
   "source": [
    "peakdf['Day_of_Month'].value_counts()"
   ]
  },
  {
   "cell_type": "code",
   "execution_count": 27,
   "id": "e6cb01b8",
   "metadata": {},
   "outputs": [
    {
     "data": {
      "text/html": [
       "<div>\n",
       "<style scoped>\n",
       "    .dataframe tbody tr th:only-of-type {\n",
       "        vertical-align: middle;\n",
       "    }\n",
       "\n",
       "    .dataframe tbody tr th {\n",
       "        vertical-align: top;\n",
       "    }\n",
       "\n",
       "    .dataframe thead th {\n",
       "        text-align: right;\n",
       "    }\n",
       "</style>\n",
       "<table border=\"1\" class=\"dataframe\">\n",
       "  <thead>\n",
       "    <tr style=\"text-align: right;\">\n",
       "      <th></th>\n",
       "      <th>count</th>\n",
       "      <th>Day_of_Month</th>\n",
       "      <th>Day_of_Week</th>\n",
       "      <th>time</th>\n",
       "    </tr>\n",
       "    <tr>\n",
       "      <th>login_time</th>\n",
       "      <th></th>\n",
       "      <th></th>\n",
       "      <th></th>\n",
       "      <th></th>\n",
       "    </tr>\n",
       "  </thead>\n",
       "  <tbody>\n",
       "    <tr>\n",
       "      <th>1970-04-04 00:15:00</th>\n",
       "      <td>39</td>\n",
       "      <td>4</td>\n",
       "      <td>5</td>\n",
       "      <td>00:15:00</td>\n",
       "    </tr>\n",
       "    <tr>\n",
       "      <th>1970-04-04 00:30:00</th>\n",
       "      <td>53</td>\n",
       "      <td>4</td>\n",
       "      <td>5</td>\n",
       "      <td>00:30:00</td>\n",
       "    </tr>\n",
       "    <tr>\n",
       "      <th>1970-04-04 00:45:00</th>\n",
       "      <td>50</td>\n",
       "      <td>4</td>\n",
       "      <td>5</td>\n",
       "      <td>00:45:00</td>\n",
       "    </tr>\n",
       "    <tr>\n",
       "      <th>1970-04-04 01:00:00</th>\n",
       "      <td>54</td>\n",
       "      <td>4</td>\n",
       "      <td>5</td>\n",
       "      <td>01:00:00</td>\n",
       "    </tr>\n",
       "    <tr>\n",
       "      <th>1970-04-04 01:15:00</th>\n",
       "      <td>63</td>\n",
       "      <td>4</td>\n",
       "      <td>5</td>\n",
       "      <td>01:15:00</td>\n",
       "    </tr>\n",
       "    <tr>\n",
       "      <th>1970-04-04 01:30:00</th>\n",
       "      <td>64</td>\n",
       "      <td>4</td>\n",
       "      <td>5</td>\n",
       "      <td>01:30:00</td>\n",
       "    </tr>\n",
       "    <tr>\n",
       "      <th>1970-04-04 01:45:00</th>\n",
       "      <td>56</td>\n",
       "      <td>4</td>\n",
       "      <td>5</td>\n",
       "      <td>01:45:00</td>\n",
       "    </tr>\n",
       "    <tr>\n",
       "      <th>1970-04-04 02:15:00</th>\n",
       "      <td>38</td>\n",
       "      <td>4</td>\n",
       "      <td>5</td>\n",
       "      <td>02:15:00</td>\n",
       "    </tr>\n",
       "    <tr>\n",
       "      <th>1970-04-04 03:00:00</th>\n",
       "      <td>47</td>\n",
       "      <td>4</td>\n",
       "      <td>5</td>\n",
       "      <td>03:00:00</td>\n",
       "    </tr>\n",
       "    <tr>\n",
       "      <th>1970-04-04 03:15:00</th>\n",
       "      <td>46</td>\n",
       "      <td>4</td>\n",
       "      <td>5</td>\n",
       "      <td>03:15:00</td>\n",
       "    </tr>\n",
       "    <tr>\n",
       "      <th>1970-04-04 04:15:00</th>\n",
       "      <td>40</td>\n",
       "      <td>4</td>\n",
       "      <td>5</td>\n",
       "      <td>04:15:00</td>\n",
       "    </tr>\n",
       "    <tr>\n",
       "      <th>1970-04-04 04:30:00</th>\n",
       "      <td>44</td>\n",
       "      <td>4</td>\n",
       "      <td>5</td>\n",
       "      <td>04:30:00</td>\n",
       "    </tr>\n",
       "    <tr>\n",
       "      <th>1970-04-04 04:45:00</th>\n",
       "      <td>59</td>\n",
       "      <td>4</td>\n",
       "      <td>5</td>\n",
       "      <td>04:45:00</td>\n",
       "    </tr>\n",
       "    <tr>\n",
       "      <th>1970-04-04 05:00:00</th>\n",
       "      <td>60</td>\n",
       "      <td>4</td>\n",
       "      <td>5</td>\n",
       "      <td>05:00:00</td>\n",
       "    </tr>\n",
       "    <tr>\n",
       "      <th>1970-04-04 05:15:00</th>\n",
       "      <td>59</td>\n",
       "      <td>4</td>\n",
       "      <td>5</td>\n",
       "      <td>05:15:00</td>\n",
       "    </tr>\n",
       "    <tr>\n",
       "      <th>1970-04-04 05:30:00</th>\n",
       "      <td>66</td>\n",
       "      <td>4</td>\n",
       "      <td>5</td>\n",
       "      <td>05:30:00</td>\n",
       "    </tr>\n",
       "    <tr>\n",
       "      <th>1970-04-04 05:45:00</th>\n",
       "      <td>41</td>\n",
       "      <td>4</td>\n",
       "      <td>5</td>\n",
       "      <td>05:45:00</td>\n",
       "    </tr>\n",
       "    <tr>\n",
       "      <th>1970-04-04 06:00:00</th>\n",
       "      <td>45</td>\n",
       "      <td>4</td>\n",
       "      <td>5</td>\n",
       "      <td>06:00:00</td>\n",
       "    </tr>\n",
       "  </tbody>\n",
       "</table>\n",
       "</div>"
      ],
      "text/plain": [
       "                     count  Day_of_Month  Day_of_Week      time\n",
       "login_time                                                     \n",
       "1970-04-04 00:15:00     39             4            5  00:15:00\n",
       "1970-04-04 00:30:00     53             4            5  00:30:00\n",
       "1970-04-04 00:45:00     50             4            5  00:45:00\n",
       "1970-04-04 01:00:00     54             4            5  01:00:00\n",
       "1970-04-04 01:15:00     63             4            5  01:15:00\n",
       "1970-04-04 01:30:00     64             4            5  01:30:00\n",
       "1970-04-04 01:45:00     56             4            5  01:45:00\n",
       "1970-04-04 02:15:00     38             4            5  02:15:00\n",
       "1970-04-04 03:00:00     47             4            5  03:00:00\n",
       "1970-04-04 03:15:00     46             4            5  03:15:00\n",
       "1970-04-04 04:15:00     40             4            5  04:15:00\n",
       "1970-04-04 04:30:00     44             4            5  04:30:00\n",
       "1970-04-04 04:45:00     59             4            5  04:45:00\n",
       "1970-04-04 05:00:00     60             4            5  05:00:00\n",
       "1970-04-04 05:15:00     59             4            5  05:15:00\n",
       "1970-04-04 05:30:00     66             4            5  05:30:00\n",
       "1970-04-04 05:45:00     41             4            5  05:45:00\n",
       "1970-04-04 06:00:00     45             4            5  06:00:00"
      ]
     },
     "execution_count": 27,
     "metadata": {},
     "output_type": "execute_result"
    }
   ],
   "source": [
    "peakdf.loc[peakdf['Day_of_Month'] == 4] "
   ]
  },
  {
   "cell_type": "markdown",
   "id": "994ebeaa",
   "metadata": {},
   "source": [
    "Max logins happening on the 4th but it looks like they are all consolidated to one single \"4th day of the month\". Meaning the 4th day of the month is not necessarily the highest trafficking day for each month, it was only the highest trafficked day in April. "
   ]
  },
  {
   "cell_type": "code",
   "execution_count": 28,
   "id": "b7568cd9",
   "metadata": {},
   "outputs": [
    {
     "data": {
      "text/plain": [
       "count    107.000000\n",
       "mean       5.121495\n",
       "std        1.096394\n",
       "min        1.000000\n",
       "25%        5.000000\n",
       "50%        5.000000\n",
       "75%        6.000000\n",
       "max        6.000000\n",
       "Name: Day_of_Week, dtype: float64"
      ]
     },
     "execution_count": 28,
     "metadata": {},
     "output_type": "execute_result"
    }
   ],
   "source": [
    "peakdf['Day_of_Week'].describe()"
   ]
  },
  {
   "cell_type": "markdown",
   "id": "9a17d054",
   "metadata": {},
   "source": [
    "Pandas date time index day of the week function denotes Monday as 0 and Sunday as 6 -- the min here is 1, meaning we have no peak login days occuring on Mondays. Both our mean and median are around the 5th day, showing that our average peak day is occuring on Saturdays.  "
   ]
  },
  {
   "cell_type": "markdown",
   "id": "4f7cffa1",
   "metadata": {},
   "source": [
    "Our average peak day for logins is Saturday but most of our peak days are occuring on Sundays -- overall, weekends are showing much more traffic than any day of the week. "
   ]
  },
  {
   "cell_type": "code",
   "execution_count": 29,
   "id": "218f68b1",
   "metadata": {},
   "outputs": [
    {
     "data": {
      "text/plain": [
       "6    46\n",
       "5    42\n",
       "4    13\n",
       "1     3\n",
       "2     2\n",
       "3     1\n",
       "Name: Day_of_Week, dtype: int64"
      ]
     },
     "execution_count": 29,
     "metadata": {},
     "output_type": "execute_result"
    }
   ],
   "source": [
    "peakdf['Day_of_Week'].value_counts()"
   ]
  },
  {
   "cell_type": "code",
   "execution_count": 30,
   "id": "a93d4734",
   "metadata": {},
   "outputs": [
    {
     "data": {
      "text/html": [
       "<div>\n",
       "<style scoped>\n",
       "    .dataframe tbody tr th:only-of-type {\n",
       "        vertical-align: middle;\n",
       "    }\n",
       "\n",
       "    .dataframe tbody tr th {\n",
       "        vertical-align: top;\n",
       "    }\n",
       "\n",
       "    .dataframe thead th {\n",
       "        text-align: right;\n",
       "    }\n",
       "</style>\n",
       "<table border=\"1\" class=\"dataframe\">\n",
       "  <thead>\n",
       "    <tr style=\"text-align: right;\">\n",
       "      <th></th>\n",
       "      <th>count</th>\n",
       "      <th>Day_of_Month</th>\n",
       "      <th>Day_of_Week</th>\n",
       "      <th>time</th>\n",
       "    </tr>\n",
       "    <tr>\n",
       "      <th>login_time</th>\n",
       "      <th></th>\n",
       "      <th></th>\n",
       "      <th></th>\n",
       "      <th></th>\n",
       "    </tr>\n",
       "  </thead>\n",
       "  <tbody>\n",
       "    <tr>\n",
       "      <th>1970-01-11 04:45:00</th>\n",
       "      <td>45</td>\n",
       "      <td>11</td>\n",
       "      <td>6</td>\n",
       "      <td>04:45:00</td>\n",
       "    </tr>\n",
       "    <tr>\n",
       "      <th>1970-01-18 02:15:00</th>\n",
       "      <td>38</td>\n",
       "      <td>18</td>\n",
       "      <td>6</td>\n",
       "      <td>02:15:00</td>\n",
       "    </tr>\n",
       "    <tr>\n",
       "      <th>1970-01-18 04:15:00</th>\n",
       "      <td>42</td>\n",
       "      <td>18</td>\n",
       "      <td>6</td>\n",
       "      <td>04:15:00</td>\n",
       "    </tr>\n",
       "    <tr>\n",
       "      <th>1970-02-08 03:15:00</th>\n",
       "      <td>46</td>\n",
       "      <td>8</td>\n",
       "      <td>6</td>\n",
       "      <td>03:15:00</td>\n",
       "    </tr>\n",
       "    <tr>\n",
       "      <th>1970-02-08 04:45:00</th>\n",
       "      <td>40</td>\n",
       "      <td>8</td>\n",
       "      <td>6</td>\n",
       "      <td>04:45:00</td>\n",
       "    </tr>\n",
       "    <tr>\n",
       "      <th>1970-02-15 04:00:00</th>\n",
       "      <td>43</td>\n",
       "      <td>15</td>\n",
       "      <td>6</td>\n",
       "      <td>04:00:00</td>\n",
       "    </tr>\n",
       "    <tr>\n",
       "      <th>1970-02-15 04:30:00</th>\n",
       "      <td>40</td>\n",
       "      <td>15</td>\n",
       "      <td>6</td>\n",
       "      <td>04:30:00</td>\n",
       "    </tr>\n",
       "    <tr>\n",
       "      <th>1970-02-15 04:45:00</th>\n",
       "      <td>50</td>\n",
       "      <td>15</td>\n",
       "      <td>6</td>\n",
       "      <td>04:45:00</td>\n",
       "    </tr>\n",
       "    <tr>\n",
       "      <th>1970-02-22 03:30:00</th>\n",
       "      <td>40</td>\n",
       "      <td>22</td>\n",
       "      <td>6</td>\n",
       "      <td>03:30:00</td>\n",
       "    </tr>\n",
       "    <tr>\n",
       "      <th>1970-02-22 04:15:00</th>\n",
       "      <td>42</td>\n",
       "      <td>22</td>\n",
       "      <td>6</td>\n",
       "      <td>04:15:00</td>\n",
       "    </tr>\n",
       "    <tr>\n",
       "      <th>1970-02-22 04:45:00</th>\n",
       "      <td>41</td>\n",
       "      <td>22</td>\n",
       "      <td>6</td>\n",
       "      <td>04:45:00</td>\n",
       "    </tr>\n",
       "    <tr>\n",
       "      <th>1970-02-22 05:00:00</th>\n",
       "      <td>40</td>\n",
       "      <td>22</td>\n",
       "      <td>6</td>\n",
       "      <td>05:00:00</td>\n",
       "    </tr>\n",
       "    <tr>\n",
       "      <th>1970-03-01 03:15:00</th>\n",
       "      <td>41</td>\n",
       "      <td>1</td>\n",
       "      <td>6</td>\n",
       "      <td>03:15:00</td>\n",
       "    </tr>\n",
       "    <tr>\n",
       "      <th>1970-03-01 04:00:00</th>\n",
       "      <td>43</td>\n",
       "      <td>1</td>\n",
       "      <td>6</td>\n",
       "      <td>04:00:00</td>\n",
       "    </tr>\n",
       "    <tr>\n",
       "      <th>1970-03-01 04:15:00</th>\n",
       "      <td>41</td>\n",
       "      <td>1</td>\n",
       "      <td>6</td>\n",
       "      <td>04:15:00</td>\n",
       "    </tr>\n",
       "    <tr>\n",
       "      <th>1970-03-01 04:30:00</th>\n",
       "      <td>73</td>\n",
       "      <td>1</td>\n",
       "      <td>6</td>\n",
       "      <td>04:30:00</td>\n",
       "    </tr>\n",
       "    <tr>\n",
       "      <th>1970-03-01 04:45:00</th>\n",
       "      <td>48</td>\n",
       "      <td>1</td>\n",
       "      <td>6</td>\n",
       "      <td>04:45:00</td>\n",
       "    </tr>\n",
       "    <tr>\n",
       "      <th>1970-03-08 02:15:00</th>\n",
       "      <td>38</td>\n",
       "      <td>8</td>\n",
       "      <td>6</td>\n",
       "      <td>02:15:00</td>\n",
       "    </tr>\n",
       "    <tr>\n",
       "      <th>1970-03-08 03:30:00</th>\n",
       "      <td>38</td>\n",
       "      <td>8</td>\n",
       "      <td>6</td>\n",
       "      <td>03:30:00</td>\n",
       "    </tr>\n",
       "    <tr>\n",
       "      <th>1970-03-08 04:30:00</th>\n",
       "      <td>43</td>\n",
       "      <td>8</td>\n",
       "      <td>6</td>\n",
       "      <td>04:30:00</td>\n",
       "    </tr>\n",
       "    <tr>\n",
       "      <th>1970-03-08 04:45:00</th>\n",
       "      <td>51</td>\n",
       "      <td>8</td>\n",
       "      <td>6</td>\n",
       "      <td>04:45:00</td>\n",
       "    </tr>\n",
       "    <tr>\n",
       "      <th>1970-03-08 05:00:00</th>\n",
       "      <td>47</td>\n",
       "      <td>8</td>\n",
       "      <td>6</td>\n",
       "      <td>05:00:00</td>\n",
       "    </tr>\n",
       "    <tr>\n",
       "      <th>1970-03-15 02:15:00</th>\n",
       "      <td>42</td>\n",
       "      <td>15</td>\n",
       "      <td>6</td>\n",
       "      <td>02:15:00</td>\n",
       "    </tr>\n",
       "    <tr>\n",
       "      <th>1970-03-15 04:00:00</th>\n",
       "      <td>41</td>\n",
       "      <td>15</td>\n",
       "      <td>6</td>\n",
       "      <td>04:00:00</td>\n",
       "    </tr>\n",
       "    <tr>\n",
       "      <th>1970-03-15 04:30:00</th>\n",
       "      <td>39</td>\n",
       "      <td>15</td>\n",
       "      <td>6</td>\n",
       "      <td>04:30:00</td>\n",
       "    </tr>\n",
       "    <tr>\n",
       "      <th>1970-03-22 01:30:00</th>\n",
       "      <td>46</td>\n",
       "      <td>22</td>\n",
       "      <td>6</td>\n",
       "      <td>01:30:00</td>\n",
       "    </tr>\n",
       "    <tr>\n",
       "      <th>1970-03-22 02:00:00</th>\n",
       "      <td>45</td>\n",
       "      <td>22</td>\n",
       "      <td>6</td>\n",
       "      <td>02:00:00</td>\n",
       "    </tr>\n",
       "    <tr>\n",
       "      <th>1970-03-22 04:00:00</th>\n",
       "      <td>46</td>\n",
       "      <td>22</td>\n",
       "      <td>6</td>\n",
       "      <td>04:00:00</td>\n",
       "    </tr>\n",
       "    <tr>\n",
       "      <th>1970-03-22 04:15:00</th>\n",
       "      <td>40</td>\n",
       "      <td>22</td>\n",
       "      <td>6</td>\n",
       "      <td>04:15:00</td>\n",
       "    </tr>\n",
       "    <tr>\n",
       "      <th>1970-03-22 04:30:00</th>\n",
       "      <td>45</td>\n",
       "      <td>22</td>\n",
       "      <td>6</td>\n",
       "      <td>04:30:00</td>\n",
       "    </tr>\n",
       "    <tr>\n",
       "      <th>1970-03-29 02:15:00</th>\n",
       "      <td>50</td>\n",
       "      <td>29</td>\n",
       "      <td>6</td>\n",
       "      <td>02:15:00</td>\n",
       "    </tr>\n",
       "    <tr>\n",
       "      <th>1970-03-29 02:30:00</th>\n",
       "      <td>43</td>\n",
       "      <td>29</td>\n",
       "      <td>6</td>\n",
       "      <td>02:30:00</td>\n",
       "    </tr>\n",
       "    <tr>\n",
       "      <th>1970-03-29 02:45:00</th>\n",
       "      <td>45</td>\n",
       "      <td>29</td>\n",
       "      <td>6</td>\n",
       "      <td>02:45:00</td>\n",
       "    </tr>\n",
       "    <tr>\n",
       "      <th>1970-03-29 03:15:00</th>\n",
       "      <td>38</td>\n",
       "      <td>29</td>\n",
       "      <td>6</td>\n",
       "      <td>03:15:00</td>\n",
       "    </tr>\n",
       "    <tr>\n",
       "      <th>1970-03-29 03:30:00</th>\n",
       "      <td>38</td>\n",
       "      <td>29</td>\n",
       "      <td>6</td>\n",
       "      <td>03:30:00</td>\n",
       "    </tr>\n",
       "    <tr>\n",
       "      <th>1970-03-29 04:15:00</th>\n",
       "      <td>41</td>\n",
       "      <td>29</td>\n",
       "      <td>6</td>\n",
       "      <td>04:15:00</td>\n",
       "    </tr>\n",
       "    <tr>\n",
       "      <th>1970-03-29 04:30:00</th>\n",
       "      <td>44</td>\n",
       "      <td>29</td>\n",
       "      <td>6</td>\n",
       "      <td>04:30:00</td>\n",
       "    </tr>\n",
       "    <tr>\n",
       "      <th>1970-03-29 04:45:00</th>\n",
       "      <td>52</td>\n",
       "      <td>29</td>\n",
       "      <td>6</td>\n",
       "      <td>04:45:00</td>\n",
       "    </tr>\n",
       "    <tr>\n",
       "      <th>1970-03-29 05:00:00</th>\n",
       "      <td>41</td>\n",
       "      <td>29</td>\n",
       "      <td>6</td>\n",
       "      <td>05:00:00</td>\n",
       "    </tr>\n",
       "    <tr>\n",
       "      <th>1970-04-05 04:00:00</th>\n",
       "      <td>43</td>\n",
       "      <td>5</td>\n",
       "      <td>6</td>\n",
       "      <td>04:00:00</td>\n",
       "    </tr>\n",
       "    <tr>\n",
       "      <th>1970-04-05 04:15:00</th>\n",
       "      <td>42</td>\n",
       "      <td>5</td>\n",
       "      <td>6</td>\n",
       "      <td>04:15:00</td>\n",
       "    </tr>\n",
       "    <tr>\n",
       "      <th>1970-04-12 03:00:00</th>\n",
       "      <td>39</td>\n",
       "      <td>12</td>\n",
       "      <td>6</td>\n",
       "      <td>03:00:00</td>\n",
       "    </tr>\n",
       "    <tr>\n",
       "      <th>1970-04-12 03:15:00</th>\n",
       "      <td>43</td>\n",
       "      <td>12</td>\n",
       "      <td>6</td>\n",
       "      <td>03:15:00</td>\n",
       "    </tr>\n",
       "    <tr>\n",
       "      <th>1970-04-12 03:45:00</th>\n",
       "      <td>38</td>\n",
       "      <td>12</td>\n",
       "      <td>6</td>\n",
       "      <td>03:45:00</td>\n",
       "    </tr>\n",
       "    <tr>\n",
       "      <th>1970-04-12 04:00:00</th>\n",
       "      <td>44</td>\n",
       "      <td>12</td>\n",
       "      <td>6</td>\n",
       "      <td>04:00:00</td>\n",
       "    </tr>\n",
       "    <tr>\n",
       "      <th>1970-04-12 04:45:00</th>\n",
       "      <td>45</td>\n",
       "      <td>12</td>\n",
       "      <td>6</td>\n",
       "      <td>04:45:00</td>\n",
       "    </tr>\n",
       "  </tbody>\n",
       "</table>\n",
       "</div>"
      ],
      "text/plain": [
       "                     count  Day_of_Month  Day_of_Week      time\n",
       "login_time                                                     \n",
       "1970-01-11 04:45:00     45            11            6  04:45:00\n",
       "1970-01-18 02:15:00     38            18            6  02:15:00\n",
       "1970-01-18 04:15:00     42            18            6  04:15:00\n",
       "1970-02-08 03:15:00     46             8            6  03:15:00\n",
       "1970-02-08 04:45:00     40             8            6  04:45:00\n",
       "1970-02-15 04:00:00     43            15            6  04:00:00\n",
       "1970-02-15 04:30:00     40            15            6  04:30:00\n",
       "1970-02-15 04:45:00     50            15            6  04:45:00\n",
       "1970-02-22 03:30:00     40            22            6  03:30:00\n",
       "1970-02-22 04:15:00     42            22            6  04:15:00\n",
       "1970-02-22 04:45:00     41            22            6  04:45:00\n",
       "1970-02-22 05:00:00     40            22            6  05:00:00\n",
       "1970-03-01 03:15:00     41             1            6  03:15:00\n",
       "1970-03-01 04:00:00     43             1            6  04:00:00\n",
       "1970-03-01 04:15:00     41             1            6  04:15:00\n",
       "1970-03-01 04:30:00     73             1            6  04:30:00\n",
       "1970-03-01 04:45:00     48             1            6  04:45:00\n",
       "1970-03-08 02:15:00     38             8            6  02:15:00\n",
       "1970-03-08 03:30:00     38             8            6  03:30:00\n",
       "1970-03-08 04:30:00     43             8            6  04:30:00\n",
       "1970-03-08 04:45:00     51             8            6  04:45:00\n",
       "1970-03-08 05:00:00     47             8            6  05:00:00\n",
       "1970-03-15 02:15:00     42            15            6  02:15:00\n",
       "1970-03-15 04:00:00     41            15            6  04:00:00\n",
       "1970-03-15 04:30:00     39            15            6  04:30:00\n",
       "1970-03-22 01:30:00     46            22            6  01:30:00\n",
       "1970-03-22 02:00:00     45            22            6  02:00:00\n",
       "1970-03-22 04:00:00     46            22            6  04:00:00\n",
       "1970-03-22 04:15:00     40            22            6  04:15:00\n",
       "1970-03-22 04:30:00     45            22            6  04:30:00\n",
       "1970-03-29 02:15:00     50            29            6  02:15:00\n",
       "1970-03-29 02:30:00     43            29            6  02:30:00\n",
       "1970-03-29 02:45:00     45            29            6  02:45:00\n",
       "1970-03-29 03:15:00     38            29            6  03:15:00\n",
       "1970-03-29 03:30:00     38            29            6  03:30:00\n",
       "1970-03-29 04:15:00     41            29            6  04:15:00\n",
       "1970-03-29 04:30:00     44            29            6  04:30:00\n",
       "1970-03-29 04:45:00     52            29            6  04:45:00\n",
       "1970-03-29 05:00:00     41            29            6  05:00:00\n",
       "1970-04-05 04:00:00     43             5            6  04:00:00\n",
       "1970-04-05 04:15:00     42             5            6  04:15:00\n",
       "1970-04-12 03:00:00     39            12            6  03:00:00\n",
       "1970-04-12 03:15:00     43            12            6  03:15:00\n",
       "1970-04-12 03:45:00     38            12            6  03:45:00\n",
       "1970-04-12 04:00:00     44            12            6  04:00:00\n",
       "1970-04-12 04:45:00     45            12            6  04:45:00"
      ]
     },
     "execution_count": 30,
     "metadata": {},
     "output_type": "execute_result"
    }
   ],
   "source": [
    "peakdf.loc[peakdf['Day_of_Week']==6]"
   ]
  },
  {
   "cell_type": "markdown",
   "id": "50c010e2",
   "metadata": {},
   "source": [
    "Peak day of week being Sunday looks like a common occurence for each month. "
   ]
  },
  {
   "cell_type": "code",
   "execution_count": 31,
   "id": "b87f67d2",
   "metadata": {},
   "outputs": [
    {
     "data": {
      "text/plain": [
       "count          107\n",
       "unique          34\n",
       "top       04:45:00\n",
       "freq            13\n",
       "Name: time, dtype: object"
      ]
     },
     "execution_count": 31,
     "metadata": {},
     "output_type": "execute_result"
    }
   ],
   "source": [
    "peakdf['time'].describe()"
   ]
  },
  {
   "cell_type": "markdown",
   "id": "67460fdc",
   "metadata": {},
   "source": [
    "34 unique times within the peak login dataset, top occuring is 4:45AM with 13 occurences"
   ]
  },
  {
   "cell_type": "code",
   "execution_count": 32,
   "id": "8bc44991",
   "metadata": {},
   "outputs": [
    {
     "data": {
      "text/plain": [
       "04:45:00    13\n",
       "04:30:00    11\n",
       "04:15:00     8\n",
       "03:15:00     7\n",
       "02:15:00     7\n",
       "04:00:00     6\n",
       "03:30:00     5\n",
       "05:00:00     5\n",
       "01:30:00     4\n",
       "22:30:00     3\n",
       "03:45:00     3\n",
       "03:00:00     3\n",
       "22:15:00     2\n",
       "01:45:00     2\n",
       "00:30:00     2\n",
       "23:30:00     2\n",
       "22:00:00     2\n",
       "01:00:00     2\n",
       "23:15:00     2\n",
       "21:45:00     2\n",
       "02:30:00     2\n",
       "01:15:00     2\n",
       "05:45:00     1\n",
       "00:15:00     1\n",
       "05:30:00     1\n",
       "05:15:00     1\n",
       "00:45:00     1\n",
       "21:30:00     1\n",
       "22:45:00     1\n",
       "12:15:00     1\n",
       "02:45:00     1\n",
       "02:00:00     1\n",
       "21:15:00     1\n",
       "06:00:00     1\n",
       "Name: time, dtype: int64"
      ]
     },
     "execution_count": 32,
     "metadata": {},
     "output_type": "execute_result"
    }
   ],
   "source": [
    "peakdf['time'].value_counts()"
   ]
  },
  {
   "cell_type": "markdown",
   "id": "fe0ecbd8",
   "metadata": {},
   "source": [
    "4am hour has the most amount of logins in the peak dataset"
   ]
  },
  {
   "cell_type": "code",
   "execution_count": 33,
   "id": "7100d37a",
   "metadata": {},
   "outputs": [
    {
     "data": {
      "image/png": "[encoded data removed]",
      "text/plain": [
       "<Figure size 640x480 with 1 Axes>"
      ]
     },
     "metadata": {},
     "output_type": "display_data"
    }
   ],
   "source": [
    "peakdf['count'].plot()\n",
    "plt.show()"
   ]
  },
  {
   "cell_type": "markdown",
   "id": "f80a7a57",
   "metadata": {},
   "source": [
    "Average login counts for peak days are also increasing -- wondering what happened on 03-01 to make such a large peak."
   ]
  },
  {
   "cell_type": "code",
   "execution_count": 34,
   "id": "4b121989",
   "metadata": {},
   "outputs": [],
   "source": [
    "# Let's zoom out a bit and look at the same plot by day \n",
    "log_day = logins.resample('D').sum()"
   ]
  },
  {
   "cell_type": "code",
   "execution_count": 35,
   "id": "904c2fcb",
   "metadata": {},
   "outputs": [
    {
     "data": {
      "text/html": [
       "<div>\n",
       "<style scoped>\n",
       "    .dataframe tbody tr th:only-of-type {\n",
       "        vertical-align: middle;\n",
       "    }\n",
       "\n",
       "    .dataframe tbody tr th {\n",
       "        vertical-align: top;\n",
       "    }\n",
       "\n",
       "    .dataframe thead th {\n",
       "        text-align: right;\n",
       "    }\n",
       "</style>\n",
       "<table border=\"1\" class=\"dataframe\">\n",
       "  <thead>\n",
       "    <tr style=\"text-align: right;\">\n",
       "      <th></th>\n",
       "      <th>count</th>\n",
       "    </tr>\n",
       "    <tr>\n",
       "      <th>login_time</th>\n",
       "      <th></th>\n",
       "    </tr>\n",
       "  </thead>\n",
       "  <tbody>\n",
       "    <tr>\n",
       "      <th>1970-01-01</th>\n",
       "      <td>112</td>\n",
       "    </tr>\n",
       "    <tr>\n",
       "      <th>1970-01-02</th>\n",
       "      <td>681</td>\n",
       "    </tr>\n",
       "    <tr>\n",
       "      <th>1970-01-03</th>\n",
       "      <td>793</td>\n",
       "    </tr>\n",
       "    <tr>\n",
       "      <th>1970-01-04</th>\n",
       "      <td>788</td>\n",
       "    </tr>\n",
       "    <tr>\n",
       "      <th>1970-01-05</th>\n",
       "      <td>459</td>\n",
       "    </tr>\n",
       "    <tr>\n",
       "      <th>...</th>\n",
       "      <td>...</td>\n",
       "    </tr>\n",
       "    <tr>\n",
       "      <th>1970-04-09</th>\n",
       "      <td>818</td>\n",
       "    </tr>\n",
       "    <tr>\n",
       "      <th>1970-04-10</th>\n",
       "      <td>1009</td>\n",
       "    </tr>\n",
       "    <tr>\n",
       "      <th>1970-04-11</th>\n",
       "      <td>1352</td>\n",
       "    </tr>\n",
       "    <tr>\n",
       "      <th>1970-04-12</th>\n",
       "      <td>1409</td>\n",
       "    </tr>\n",
       "    <tr>\n",
       "      <th>1970-04-13</th>\n",
       "      <td>395</td>\n",
       "    </tr>\n",
       "  </tbody>\n",
       "</table>\n",
       "<p>103 rows × 1 columns</p>\n",
       "</div>"
      ],
      "text/plain": [
       "            count\n",
       "login_time       \n",
       "1970-01-01    112\n",
       "1970-01-02    681\n",
       "1970-01-03    793\n",
       "1970-01-04    788\n",
       "1970-01-05    459\n",
       "...           ...\n",
       "1970-04-09    818\n",
       "1970-04-10   1009\n",
       "1970-04-11   1352\n",
       "1970-04-12   1409\n",
       "1970-04-13    395\n",
       "\n",
       "[103 rows x 1 columns]"
      ]
     },
     "execution_count": 35,
     "metadata": {},
     "output_type": "execute_result"
    }
   ],
   "source": [
    "log_day"
   ]
  },
  {
   "cell_type": "code",
   "execution_count": 36,
   "id": "a7145271",
   "metadata": {},
   "outputs": [
    {
     "data": {
      "image/png": "[encoded data removed]",
      "text/plain": [
       "<Figure size 2000x800 with 1 Axes>"
      ]
     },
     "metadata": {},
     "output_type": "display_data"
    }
   ],
   "source": [
    "log_day.plot(figsize=(20,8))\n",
    "plt.show()"
   ]
  },
  {
   "cell_type": "markdown",
   "id": "165e269f",
   "metadata": {},
   "source": [
    "This plot shows the increasing average a bit clearer. Trend seems to break at the end of our dataset by returning to lower lows but it looks like our dataset stops around 6:45pm on the last day of our dataset - could just not be accounting for a larger number of logins occuring at the end of the day?"
   ]
  },
  {
   "cell_type": "markdown",
   "id": "42766b6f",
   "metadata": {},
   "source": [
    "## Part 1 Summary: \n",
    "\n",
    "#### Whole dataset: \n",
    "\n",
    "* Once graphed, data is showing a sinusoidal pattern. Potentially showing a reoccuring change throughout day/month. The average seems to be inceasing as time goes on. \n",
    "* Median number of logins = 7 / Mean = 9.5. Assuming the mean is being pulled up by the average increasing over time. \n",
    "* Greatest number of logins occured on 03-01-1970 with 73 logins occuring around 4:30AM. \n",
    "* Average number of logins are occuring mid-month : Mean = 14.57th day / Median = 14th day. Max values occur from a range of the 2nd day - 12th day of the month -- The mean is being pulled up due to a collective majority of logins occuring towards the end of the month. (after the 12th). \n",
    "* Average number of logins occuring the week are on Thursdays. Mean = Thursday/ Median = Thursday. Max number of logins occuring on Fridays, Saturdays, and Sundays. \n",
    "\n",
    "#### Peak dataset: \n",
    "* We created a subset of only peak values (values found in the 99th percentile). This dataset is a total of 107 values. \n",
    "* Most of our days where the peak number of logins are occuring are closer to the middle of the month. Mean = 13.57th day of the month / Median = 12th day of the month. With the max number of logins occuring on the 4th day of April -- there are 18 occurences here. \n",
    "* There are no peak logins occuring on Mondays\n",
    "* Our peak login data for day of the week: Mean = Saturday/ Median = Sunday. Max = Sunday for each month. \n",
    "* Looks like most logins in our peak dataset are occuring within the 4th hour of the day (4AM).Minimum values for this were scattered throughout the early morning / times closer to 9PM/ and lunch hours (12PM). "
   ]
  },
  {
   "cell_type": "markdown",
   "id": "44778ef5",
   "metadata": {},
   "source": [
    "# Part 2: Experiment and Metrics Design \n",
    "\n",
    "*SEE 'ultimate_data_science_challenge.pdf' FOR MORE INSTRUCTION*\n",
    "\n",
    "**1. What would you choose as the key measure of success of this experiment in encouraging driver partners to serve both cities, and why would you choose this metric?**\n",
    "\n",
    "I would use number of pickups and drop offs in either city as my key metric. \n",
    "\n",
    "**2. Describe a practical experiment you would design to compare the effectiveness of the proposed change in relation to the key measure of success. Please provide details on:**\n",
    "\n",
    "**a. how you will implement the experiment**\n",
    "\n",
    "I would begin tracking metrics of no less than 100 drivers at least a month prior to announcing the proposal of reimbursement to all drivers. Early tracking will allow us to determine which city these drivers are typically servicing and gather totals for the number of pickups/drop offs they are completing prior to implementation of the change. It seems unrealistic that any driver would choose to work a shift long enough to cover both cities circadium rythms during the weekdays; because of this, I would focus on gathering confirmed dropoff and pickup data during the weekends -- when a driver is more likely to be traveling between either city. The confirmed dropoff and pickup data will include geolocation data that describes in which city these pickups and dropoffs are occuring. \n",
    "\n",
    "**b. what statistical test(s) you will conduct to verify the significance of the\n",
    "observation**\n",
    "\n",
    "Group drivers based on the city they most serviced prior to implementing toll reimbursement plan and then test for significance between the mean of pickup and drop offs that occurred prior to implementing the change and the mean of pickup and drop offs that occurred following the implementation of toll reimbursment. Since this is more than a single group I would run two separate t-tests -- one for pickups and one for dropoffs and do this once for the Gotham group and again for the Metropolis group. \n",
    "\n",
    "**c. how you would interpret the results and provide recommendations to the city\n",
    "operations team along with any caveats.**\n",
    "\n",
    "The means being significantly different from each other would tell us that implemennting toll reimbursement did in fact encourge drivers to service both cities. \n",
    "\n",
    "Would need to think about if drivers will always qualify for reimbursement or if they will only get it when they are actively driving for a customer? How will you account for drivers returning home after dropping off in the city they do not reside in? \n",
    "\n",
    "There must be drivers that already drive across the bridge with the current toll -- will introducing toll reimbursement cost the company more than it will profit them? \n",
    "\n",
    "Need to take into account weekends that are expected to be higher trafficked than normal -- holidays, events, etc. \n"
   ]
  },
  {
   "cell_type": "markdown",
   "id": "0e4b703e",
   "metadata": {},
   "source": [
    "# Part 3: Predictive Modeling"
   ]
  },
  {
   "cell_type": "code",
   "execution_count": 37,
   "id": "2203a8de",
   "metadata": {},
   "outputs": [],
   "source": [
    "df = pd.read_json('ultimate_data_challenge.json')"
   ]
  },
  {
   "cell_type": "code",
   "execution_count": 38,
   "id": "a09c95fc",
   "metadata": {},
   "outputs": [
    {
     "data": {
      "text/html": [
       "<div>\n",
       "<style scoped>\n",
       "    .dataframe tbody tr th:only-of-type {\n",
       "        vertical-align: middle;\n",
       "    }\n",
       "\n",
       "    .dataframe tbody tr th {\n",
       "        vertical-align: top;\n",
       "    }\n",
       "\n",
       "    .dataframe thead th {\n",
       "        text-align: right;\n",
       "    }\n",
       "</style>\n",
       "<table border=\"1\" class=\"dataframe\">\n",
       "  <thead>\n",
       "    <tr style=\"text-align: right;\">\n",
       "      <th></th>\n",
       "      <th>city</th>\n",
       "      <th>trips_in_first_30_days</th>\n",
       "      <th>signup_date</th>\n",
       "      <th>avg_rating_of_driver</th>\n",
       "      <th>avg_surge</th>\n",
       "      <th>last_trip_date</th>\n",
       "      <th>phone</th>\n",
       "      <th>surge_pct</th>\n",
       "      <th>ultimate_black_user</th>\n",
       "      <th>weekday_pct</th>\n",
       "      <th>avg_dist</th>\n",
       "      <th>avg_rating_by_driver</th>\n",
       "    </tr>\n",
       "  </thead>\n",
       "  <tbody>\n",
       "    <tr>\n",
       "      <th>0</th>\n",
       "      <td>King's Landing</td>\n",
       "      <td>4</td>\n",
       "      <td>2014-01-25</td>\n",
       "      <td>4.7</td>\n",
       "      <td>1.10</td>\n",
       "      <td>2014-06-17</td>\n",
       "      <td>iPhone</td>\n",
       "      <td>15.4</td>\n",
       "      <td>True</td>\n",
       "      <td>46.2</td>\n",
       "      <td>3.67</td>\n",
       "      <td>5.0</td>\n",
       "    </tr>\n",
       "    <tr>\n",
       "      <th>1</th>\n",
       "      <td>Astapor</td>\n",
       "      <td>0</td>\n",
       "      <td>2014-01-29</td>\n",
       "      <td>5.0</td>\n",
       "      <td>1.00</td>\n",
       "      <td>2014-05-05</td>\n",
       "      <td>Android</td>\n",
       "      <td>0.0</td>\n",
       "      <td>False</td>\n",
       "      <td>50.0</td>\n",
       "      <td>8.26</td>\n",
       "      <td>5.0</td>\n",
       "    </tr>\n",
       "    <tr>\n",
       "      <th>2</th>\n",
       "      <td>Astapor</td>\n",
       "      <td>3</td>\n",
       "      <td>2014-01-06</td>\n",
       "      <td>4.3</td>\n",
       "      <td>1.00</td>\n",
       "      <td>2014-01-07</td>\n",
       "      <td>iPhone</td>\n",
       "      <td>0.0</td>\n",
       "      <td>False</td>\n",
       "      <td>100.0</td>\n",
       "      <td>0.77</td>\n",
       "      <td>5.0</td>\n",
       "    </tr>\n",
       "    <tr>\n",
       "      <th>3</th>\n",
       "      <td>King's Landing</td>\n",
       "      <td>9</td>\n",
       "      <td>2014-01-10</td>\n",
       "      <td>4.6</td>\n",
       "      <td>1.14</td>\n",
       "      <td>2014-06-29</td>\n",
       "      <td>iPhone</td>\n",
       "      <td>20.0</td>\n",
       "      <td>True</td>\n",
       "      <td>80.0</td>\n",
       "      <td>2.36</td>\n",
       "      <td>4.9</td>\n",
       "    </tr>\n",
       "    <tr>\n",
       "      <th>4</th>\n",
       "      <td>Winterfell</td>\n",
       "      <td>14</td>\n",
       "      <td>2014-01-27</td>\n",
       "      <td>4.4</td>\n",
       "      <td>1.19</td>\n",
       "      <td>2014-03-15</td>\n",
       "      <td>Android</td>\n",
       "      <td>11.8</td>\n",
       "      <td>False</td>\n",
       "      <td>82.4</td>\n",
       "      <td>3.13</td>\n",
       "      <td>4.9</td>\n",
       "    </tr>\n",
       "  </tbody>\n",
       "</table>\n",
       "</div>"
      ],
      "text/plain": [
       "             city  trips_in_first_30_days signup_date  avg_rating_of_driver  \\\n",
       "0  King's Landing                       4  2014-01-25                   4.7   \n",
       "1         Astapor                       0  2014-01-29                   5.0   \n",
       "2         Astapor                       3  2014-01-06                   4.3   \n",
       "3  King's Landing                       9  2014-01-10                   4.6   \n",
       "4      Winterfell                      14  2014-01-27                   4.4   \n",
       "\n",
       "   avg_surge last_trip_date    phone  surge_pct  ultimate_black_user  \\\n",
       "0       1.10     2014-06-17   iPhone       15.4                 True   \n",
       "1       1.00     2014-05-05  Android        0.0                False   \n",
       "2       1.00     2014-01-07   iPhone        0.0                False   \n",
       "3       1.14     2014-06-29   iPhone       20.0                 True   \n",
       "4       1.19     2014-03-15  Android       11.8                False   \n",
       "\n",
       "   weekday_pct  avg_dist  avg_rating_by_driver  \n",
       "0         46.2      3.67                   5.0  \n",
       "1         50.0      8.26                   5.0  \n",
       "2        100.0      0.77                   5.0  \n",
       "3         80.0      2.36                   4.9  \n",
       "4         82.4      3.13                   4.9  "
      ]
     },
     "execution_count": 38,
     "metadata": {},
     "output_type": "execute_result"
    }
   ],
   "source": [
    "df.head()"
   ]
  },
  {
   "cell_type": "markdown",
   "id": "d7dced02",
   "metadata": {},
   "source": [
    "* city: city this user signed up in\n",
    "* phone: primary device for this user\n",
    "* signup_date: date of account registration; in the form ‘YYYYMMDD’\n",
    "* last_trip_date: the last time this user completed a trip; in the form ‘YYYYMMDD’\n",
    "* avg_dist: the average distance in miles per trip taken in the first 30 days after signup\n",
    "* avg_rating_by_driver: the rider’s average rating over all of their trips\n",
    "* avg_rating_of_driver: the rider’s average rating of their drivers over all of their trips\n",
    "* surge_pct: the percent of trips taken with surge multiplier > 1\n",
    "* avg_surge: The average surge multiplier over all of this user’s trips\n",
    "* trips_in_first_30_days: the number of trips this user took in the first 30 days after signing up\n",
    "* ultimate_black_user: TRUE if the user took an Ultimate Black in their first 30 days; FALSE otherwise\n",
    "* weekday_pct: the percent of the user’s trips occurring during a weekday"
   ]
  },
  {
   "cell_type": "markdown",
   "id": "04374e81",
   "metadata": {},
   "source": [
    "User is considered 'retained' if their last trip occurred in the last 30 days. "
   ]
  },
  {
   "cell_type": "code",
   "execution_count": 39,
   "id": "c1530683",
   "metadata": {},
   "outputs": [
    {
     "data": {
      "text/plain": [
       "(50000, 12)"
      ]
     },
     "execution_count": 39,
     "metadata": {},
     "output_type": "execute_result"
    }
   ],
   "source": [
    "df.shape"
   ]
  },
  {
   "cell_type": "code",
   "execution_count": 40,
   "id": "7050a7b1",
   "metadata": {},
   "outputs": [
    {
     "data": {
      "text/plain": [
       "city                         0\n",
       "trips_in_first_30_days       0\n",
       "signup_date                  0\n",
       "avg_rating_of_driver      8122\n",
       "avg_surge                    0\n",
       "last_trip_date               0\n",
       "phone                      396\n",
       "surge_pct                    0\n",
       "ultimate_black_user          0\n",
       "weekday_pct                  0\n",
       "avg_dist                     0\n",
       "avg_rating_by_driver       201\n",
       "dtype: int64"
      ]
     },
     "execution_count": 40,
     "metadata": {},
     "output_type": "execute_result"
    }
   ],
   "source": [
    "df.isnull().sum()"
   ]
  },
  {
   "cell_type": "markdown",
   "id": "dba8af5a",
   "metadata": {},
   "source": [
    "We can impute the mean for missing values of avg_rating_of_driver and avg_rating_by_driver, we cannot assume missing values for phone. -- Will look into dropping this column. "
   ]
  },
  {
   "cell_type": "code",
   "execution_count": 41,
   "id": "d7935587",
   "metadata": {},
   "outputs": [],
   "source": [
    "df['avg_rating_of_driver'].fillna(df['avg_rating_of_driver'].mean(),inplace=True)"
   ]
  },
  {
   "cell_type": "code",
   "execution_count": 42,
   "id": "124edcb0",
   "metadata": {},
   "outputs": [],
   "source": [
    "df['avg_rating_by_driver'].fillna(df['avg_rating_by_driver'].mean(),inplace=True)"
   ]
  },
  {
   "cell_type": "code",
   "execution_count": 43,
   "id": "820be20c",
   "metadata": {},
   "outputs": [],
   "source": [
    "df.dropna(inplace=True)"
   ]
  },
  {
   "cell_type": "code",
   "execution_count": 44,
   "id": "32f6031f",
   "metadata": {},
   "outputs": [
    {
     "data": {
      "text/plain": [
       "city                      0\n",
       "trips_in_first_30_days    0\n",
       "signup_date               0\n",
       "avg_rating_of_driver      0\n",
       "avg_surge                 0\n",
       "last_trip_date            0\n",
       "phone                     0\n",
       "surge_pct                 0\n",
       "ultimate_black_user       0\n",
       "weekday_pct               0\n",
       "avg_dist                  0\n",
       "avg_rating_by_driver      0\n",
       "dtype: int64"
      ]
     },
     "execution_count": 44,
     "metadata": {},
     "output_type": "execute_result"
    }
   ],
   "source": [
    "df.isnull().sum()"
   ]
  },
  {
   "cell_type": "code",
   "execution_count": 45,
   "id": "e62d6798",
   "metadata": {},
   "outputs": [
    {
     "data": {
      "text/plain": [
       "(49604, 12)"
      ]
     },
     "execution_count": 45,
     "metadata": {},
     "output_type": "execute_result"
    }
   ],
   "source": [
    "df.shape"
   ]
  },
  {
   "cell_type": "code",
   "execution_count": 46,
   "id": "ab645dcc",
   "metadata": {},
   "outputs": [
    {
     "data": {
      "text/plain": [
       "city                       object\n",
       "trips_in_first_30_days      int64\n",
       "signup_date                object\n",
       "avg_rating_of_driver      float64\n",
       "avg_surge                 float64\n",
       "last_trip_date             object\n",
       "phone                      object\n",
       "surge_pct                 float64\n",
       "ultimate_black_user          bool\n",
       "weekday_pct               float64\n",
       "avg_dist                  float64\n",
       "avg_rating_by_driver      float64\n",
       "dtype: object"
      ]
     },
     "execution_count": 46,
     "metadata": {},
     "output_type": "execute_result"
    }
   ],
   "source": [
    "df.dtypes"
   ]
  },
  {
   "cell_type": "markdown",
   "id": "0b1470f8",
   "metadata": {},
   "source": [
    "Want to change the signup_date and last_trip_date types to datetime objects. "
   ]
  },
  {
   "cell_type": "code",
   "execution_count": 47,
   "id": "bcbff28d",
   "metadata": {},
   "outputs": [],
   "source": [
    "df['signup_date'] = pd.to_datetime(df['signup_date'])\n",
    "df['last_trip_date'] = pd.to_datetime(df['last_trip_date'])"
   ]
  },
  {
   "cell_type": "code",
   "execution_count": 48,
   "id": "a158172c",
   "metadata": {},
   "outputs": [
    {
     "data": {
      "text/plain": [
       "city                              object\n",
       "trips_in_first_30_days             int64\n",
       "signup_date               datetime64[ns]\n",
       "avg_rating_of_driver             float64\n",
       "avg_surge                        float64\n",
       "last_trip_date            datetime64[ns]\n",
       "phone                             object\n",
       "surge_pct                        float64\n",
       "ultimate_black_user                 bool\n",
       "weekday_pct                      float64\n",
       "avg_dist                         float64\n",
       "avg_rating_by_driver             float64\n",
       "dtype: object"
      ]
     },
     "execution_count": 48,
     "metadata": {},
     "output_type": "execute_result"
    }
   ],
   "source": [
    "df.dtypes"
   ]
  },
  {
   "cell_type": "code",
   "execution_count": 49,
   "id": "50e5301c",
   "metadata": {},
   "outputs": [
    {
     "name": "stderr",
     "output_type": "stream",
     "text": [
      "<ipython-input-49-0832a502f142>:1: FutureWarning: Treating datetime data as categorical rather than numeric in `.describe` is deprecated and will be removed in a future version of pandas. Specify `datetime_is_numeric=True` to silence this warning and adopt the future behavior now.\n",
      "  df['last_trip_date'].describe()\n"
     ]
    },
    {
     "data": {
      "text/plain": [
       "count                   49604\n",
       "unique                    182\n",
       "top       2014-06-29 00:00:00\n",
       "freq                     2019\n",
       "first     2014-01-01 00:00:00\n",
       "last      2014-07-01 00:00:00\n",
       "Name: last_trip_date, dtype: object"
      ]
     },
     "execution_count": 49,
     "metadata": {},
     "output_type": "execute_result"
    }
   ],
   "source": [
    "df['last_trip_date'].describe()"
   ]
  },
  {
   "cell_type": "code",
   "execution_count": 50,
   "id": "ca6e3e90",
   "metadata": {},
   "outputs": [
    {
     "data": {
      "text/plain": [
       "Timestamp('2014-07-01 00:00:00')"
      ]
     },
     "execution_count": 50,
     "metadata": {},
     "output_type": "execute_result"
    }
   ],
   "source": [
    "df['last_trip_date'].max()"
   ]
  },
  {
   "cell_type": "code",
   "execution_count": 51,
   "id": "73ca3f1c",
   "metadata": {},
   "outputs": [],
   "source": [
    "#now create a function to change all 'last_trip_date' to either \"active\" or \"inactive\" so we can group our active drivers easily \n",
    "\n",
    "today = df['last_trip_date'].max()\n",
    "\n",
    "def active_inactive(today,x): \n",
    "    if today - x <= timedelta(days = 30):\n",
    "        return 'Active'\n",
    "    else:\n",
    "        return 'Inactive'"
   ]
  },
  {
   "cell_type": "code",
   "execution_count": 52,
   "id": "9a74b5e3",
   "metadata": {},
   "outputs": [],
   "source": [
    "df['User_Activity'] = df['last_trip_date'].apply(lambda x: active_inactive(today,x))\n"
   ]
  },
  {
   "cell_type": "code",
   "execution_count": 53,
   "id": "be4e498c",
   "metadata": {},
   "outputs": [
    {
     "data": {
      "text/html": [
       "<div>\n",
       "<style scoped>\n",
       "    .dataframe tbody tr th:only-of-type {\n",
       "        vertical-align: middle;\n",
       "    }\n",
       "\n",
       "    .dataframe tbody tr th {\n",
       "        vertical-align: top;\n",
       "    }\n",
       "\n",
       "    .dataframe thead th {\n",
       "        text-align: right;\n",
       "    }\n",
       "</style>\n",
       "<table border=\"1\" class=\"dataframe\">\n",
       "  <thead>\n",
       "    <tr style=\"text-align: right;\">\n",
       "      <th></th>\n",
       "      <th>city</th>\n",
       "      <th>trips_in_first_30_days</th>\n",
       "      <th>signup_date</th>\n",
       "      <th>avg_rating_of_driver</th>\n",
       "      <th>avg_surge</th>\n",
       "      <th>last_trip_date</th>\n",
       "      <th>phone</th>\n",
       "      <th>surge_pct</th>\n",
       "      <th>ultimate_black_user</th>\n",
       "      <th>weekday_pct</th>\n",
       "      <th>avg_dist</th>\n",
       "      <th>avg_rating_by_driver</th>\n",
       "      <th>User_Activity</th>\n",
       "    </tr>\n",
       "  </thead>\n",
       "  <tbody>\n",
       "    <tr>\n",
       "      <th>0</th>\n",
       "      <td>King's Landing</td>\n",
       "      <td>4</td>\n",
       "      <td>2014-01-25</td>\n",
       "      <td>4.700000</td>\n",
       "      <td>1.10</td>\n",
       "      <td>2014-06-17</td>\n",
       "      <td>iPhone</td>\n",
       "      <td>15.4</td>\n",
       "      <td>True</td>\n",
       "      <td>46.2</td>\n",
       "      <td>3.67</td>\n",
       "      <td>5.0</td>\n",
       "      <td>Active</td>\n",
       "    </tr>\n",
       "    <tr>\n",
       "      <th>1</th>\n",
       "      <td>Astapor</td>\n",
       "      <td>0</td>\n",
       "      <td>2014-01-29</td>\n",
       "      <td>5.000000</td>\n",
       "      <td>1.00</td>\n",
       "      <td>2014-05-05</td>\n",
       "      <td>Android</td>\n",
       "      <td>0.0</td>\n",
       "      <td>False</td>\n",
       "      <td>50.0</td>\n",
       "      <td>8.26</td>\n",
       "      <td>5.0</td>\n",
       "      <td>Inactive</td>\n",
       "    </tr>\n",
       "    <tr>\n",
       "      <th>2</th>\n",
       "      <td>Astapor</td>\n",
       "      <td>3</td>\n",
       "      <td>2014-01-06</td>\n",
       "      <td>4.300000</td>\n",
       "      <td>1.00</td>\n",
       "      <td>2014-01-07</td>\n",
       "      <td>iPhone</td>\n",
       "      <td>0.0</td>\n",
       "      <td>False</td>\n",
       "      <td>100.0</td>\n",
       "      <td>0.77</td>\n",
       "      <td>5.0</td>\n",
       "      <td>Inactive</td>\n",
       "    </tr>\n",
       "    <tr>\n",
       "      <th>3</th>\n",
       "      <td>King's Landing</td>\n",
       "      <td>9</td>\n",
       "      <td>2014-01-10</td>\n",
       "      <td>4.600000</td>\n",
       "      <td>1.14</td>\n",
       "      <td>2014-06-29</td>\n",
       "      <td>iPhone</td>\n",
       "      <td>20.0</td>\n",
       "      <td>True</td>\n",
       "      <td>80.0</td>\n",
       "      <td>2.36</td>\n",
       "      <td>4.9</td>\n",
       "      <td>Active</td>\n",
       "    </tr>\n",
       "    <tr>\n",
       "      <th>4</th>\n",
       "      <td>Winterfell</td>\n",
       "      <td>14</td>\n",
       "      <td>2014-01-27</td>\n",
       "      <td>4.400000</td>\n",
       "      <td>1.19</td>\n",
       "      <td>2014-03-15</td>\n",
       "      <td>Android</td>\n",
       "      <td>11.8</td>\n",
       "      <td>False</td>\n",
       "      <td>82.4</td>\n",
       "      <td>3.13</td>\n",
       "      <td>4.9</td>\n",
       "      <td>Inactive</td>\n",
       "    </tr>\n",
       "    <tr>\n",
       "      <th>...</th>\n",
       "      <td>...</td>\n",
       "      <td>...</td>\n",
       "      <td>...</td>\n",
       "      <td>...</td>\n",
       "      <td>...</td>\n",
       "      <td>...</td>\n",
       "      <td>...</td>\n",
       "      <td>...</td>\n",
       "      <td>...</td>\n",
       "      <td>...</td>\n",
       "      <td>...</td>\n",
       "      <td>...</td>\n",
       "      <td>...</td>\n",
       "    </tr>\n",
       "    <tr>\n",
       "      <th>49995</th>\n",
       "      <td>King's Landing</td>\n",
       "      <td>0</td>\n",
       "      <td>2014-01-25</td>\n",
       "      <td>5.000000</td>\n",
       "      <td>1.00</td>\n",
       "      <td>2014-06-05</td>\n",
       "      <td>iPhone</td>\n",
       "      <td>0.0</td>\n",
       "      <td>False</td>\n",
       "      <td>100.0</td>\n",
       "      <td>5.63</td>\n",
       "      <td>4.2</td>\n",
       "      <td>Active</td>\n",
       "    </tr>\n",
       "    <tr>\n",
       "      <th>49996</th>\n",
       "      <td>Astapor</td>\n",
       "      <td>1</td>\n",
       "      <td>2014-01-24</td>\n",
       "      <td>4.601559</td>\n",
       "      <td>1.00</td>\n",
       "      <td>2014-01-25</td>\n",
       "      <td>iPhone</td>\n",
       "      <td>0.0</td>\n",
       "      <td>False</td>\n",
       "      <td>0.0</td>\n",
       "      <td>0.00</td>\n",
       "      <td>4.0</td>\n",
       "      <td>Inactive</td>\n",
       "    </tr>\n",
       "    <tr>\n",
       "      <th>49997</th>\n",
       "      <td>Winterfell</td>\n",
       "      <td>0</td>\n",
       "      <td>2014-01-31</td>\n",
       "      <td>5.000000</td>\n",
       "      <td>1.00</td>\n",
       "      <td>2014-05-22</td>\n",
       "      <td>Android</td>\n",
       "      <td>0.0</td>\n",
       "      <td>True</td>\n",
       "      <td>100.0</td>\n",
       "      <td>3.86</td>\n",
       "      <td>5.0</td>\n",
       "      <td>Inactive</td>\n",
       "    </tr>\n",
       "    <tr>\n",
       "      <th>49998</th>\n",
       "      <td>Astapor</td>\n",
       "      <td>2</td>\n",
       "      <td>2014-01-14</td>\n",
       "      <td>3.000000</td>\n",
       "      <td>1.00</td>\n",
       "      <td>2014-01-15</td>\n",
       "      <td>iPhone</td>\n",
       "      <td>0.0</td>\n",
       "      <td>False</td>\n",
       "      <td>100.0</td>\n",
       "      <td>4.58</td>\n",
       "      <td>3.5</td>\n",
       "      <td>Inactive</td>\n",
       "    </tr>\n",
       "    <tr>\n",
       "      <th>49999</th>\n",
       "      <td>Astapor</td>\n",
       "      <td>0</td>\n",
       "      <td>2014-01-18</td>\n",
       "      <td>4.601559</td>\n",
       "      <td>1.00</td>\n",
       "      <td>2014-04-20</td>\n",
       "      <td>Android</td>\n",
       "      <td>0.0</td>\n",
       "      <td>False</td>\n",
       "      <td>0.0</td>\n",
       "      <td>3.49</td>\n",
       "      <td>5.0</td>\n",
       "      <td>Inactive</td>\n",
       "    </tr>\n",
       "  </tbody>\n",
       "</table>\n",
       "<p>49604 rows × 13 columns</p>\n",
       "</div>"
      ],
      "text/plain": [
       "                 city  trips_in_first_30_days signup_date  \\\n",
       "0      King's Landing                       4  2014-01-25   \n",
       "1             Astapor                       0  2014-01-29   \n",
       "2             Astapor                       3  2014-01-06   \n",
       "3      King's Landing                       9  2014-01-10   \n",
       "4          Winterfell                      14  2014-01-27   \n",
       "...               ...                     ...         ...   \n",
       "49995  King's Landing                       0  2014-01-25   \n",
       "49996         Astapor                       1  2014-01-24   \n",
       "49997      Winterfell                       0  2014-01-31   \n",
       "49998         Astapor                       2  2014-01-14   \n",
       "49999         Astapor                       0  2014-01-18   \n",
       "\n",
       "       avg_rating_of_driver  avg_surge last_trip_date    phone  surge_pct  \\\n",
       "0                  4.700000       1.10     2014-06-17   iPhone       15.4   \n",
       "1                  5.000000       1.00     2014-05-05  Android        0.0   \n",
       "2                  4.300000       1.00     2014-01-07   iPhone        0.0   \n",
       "3                  4.600000       1.14     2014-06-29   iPhone       20.0   \n",
       "4                  4.400000       1.19     2014-03-15  Android       11.8   \n",
       "...                     ...        ...            ...      ...        ...   \n",
       "49995              5.000000       1.00     2014-06-05   iPhone        0.0   \n",
       "49996              4.601559       1.00     2014-01-25   iPhone        0.0   \n",
       "49997              5.000000       1.00     2014-05-22  Android        0.0   \n",
       "49998              3.000000       1.00     2014-01-15   iPhone        0.0   \n",
       "49999              4.601559       1.00     2014-04-20  Android        0.0   \n",
       "\n",
       "       ultimate_black_user  weekday_pct  avg_dist  avg_rating_by_driver  \\\n",
       "0                     True         46.2      3.67                   5.0   \n",
       "1                    False         50.0      8.26                   5.0   \n",
       "2                    False        100.0      0.77                   5.0   \n",
       "3                     True         80.0      2.36                   4.9   \n",
       "4                    False         82.4      3.13                   4.9   \n",
       "...                    ...          ...       ...                   ...   \n",
       "49995                False        100.0      5.63                   4.2   \n",
       "49996                False          0.0      0.00                   4.0   \n",
       "49997                 True        100.0      3.86                   5.0   \n",
       "49998                False        100.0      4.58                   3.5   \n",
       "49999                False          0.0      3.49                   5.0   \n",
       "\n",
       "      User_Activity  \n",
       "0            Active  \n",
       "1          Inactive  \n",
       "2          Inactive  \n",
       "3            Active  \n",
       "4          Inactive  \n",
       "...             ...  \n",
       "49995        Active  \n",
       "49996      Inactive  \n",
       "49997      Inactive  \n",
       "49998      Inactive  \n",
       "49999      Inactive  \n",
       "\n",
       "[49604 rows x 13 columns]"
      ]
     },
     "execution_count": 53,
     "metadata": {},
     "output_type": "execute_result"
    }
   ],
   "source": [
    "df"
   ]
  },
  {
   "cell_type": "code",
   "execution_count": 54,
   "id": "9e605c28",
   "metadata": {},
   "outputs": [],
   "source": [
    "active = df.loc[df['User_Activity']=='Active']"
   ]
  },
  {
   "cell_type": "code",
   "execution_count": 55,
   "id": "0a56229e",
   "metadata": {},
   "outputs": [],
   "source": [
    "inactive = df.loc[df['User_Activity']=='Inactive']"
   ]
  },
  {
   "cell_type": "code",
   "execution_count": 56,
   "id": "7bdc3c33",
   "metadata": {},
   "outputs": [
    {
     "data": {
      "text/plain": [
       "(49604, 13)"
      ]
     },
     "execution_count": 56,
     "metadata": {},
     "output_type": "execute_result"
    }
   ],
   "source": [
    "df.shape"
   ]
  },
  {
   "cell_type": "code",
   "execution_count": 57,
   "id": "a53e6aee",
   "metadata": {},
   "outputs": [
    {
     "data": {
      "text/plain": [
       "(18671, 13)"
      ]
     },
     "execution_count": 57,
     "metadata": {},
     "output_type": "execute_result"
    }
   ],
   "source": [
    "active.shape"
   ]
  },
  {
   "cell_type": "code",
   "execution_count": 58,
   "id": "a986e3d6",
   "metadata": {},
   "outputs": [
    {
     "data": {
      "text/plain": [
       "(30933, 13)"
      ]
     },
     "execution_count": 58,
     "metadata": {},
     "output_type": "execute_result"
    }
   ],
   "source": [
    "inactive.shape"
   ]
  },
  {
   "cell_type": "markdown",
   "id": "94640801",
   "metadata": {},
   "source": [
    "This is a classification problem -- our two potential labels are 'Active' or 'Inactive' -- we'll explore our data and then determine if any of these are significantly contributing to our final label determination. Our data is fairly unbalanced, we have a little more than half the amount of active members as we do inactive. "
   ]
  },
  {
   "cell_type": "code",
   "execution_count": 59,
   "id": "fda0ceea",
   "metadata": {},
   "outputs": [
    {
     "data": {
      "text/html": [
       "<div>\n",
       "<style scoped>\n",
       "    .dataframe tbody tr th:only-of-type {\n",
       "        vertical-align: middle;\n",
       "    }\n",
       "\n",
       "    .dataframe tbody tr th {\n",
       "        vertical-align: top;\n",
       "    }\n",
       "\n",
       "    .dataframe thead th {\n",
       "        text-align: right;\n",
       "    }\n",
       "</style>\n",
       "<table border=\"1\" class=\"dataframe\">\n",
       "  <thead>\n",
       "    <tr style=\"text-align: right;\">\n",
       "      <th></th>\n",
       "      <th>trips_in_first_30_days</th>\n",
       "      <th>avg_rating_of_driver</th>\n",
       "      <th>avg_surge</th>\n",
       "      <th>surge_pct</th>\n",
       "      <th>weekday_pct</th>\n",
       "      <th>avg_dist</th>\n",
       "      <th>avg_rating_by_driver</th>\n",
       "    </tr>\n",
       "  </thead>\n",
       "  <tbody>\n",
       "    <tr>\n",
       "      <th>count</th>\n",
       "      <td>49604.000000</td>\n",
       "      <td>49604.000000</td>\n",
       "      <td>49604.000000</td>\n",
       "      <td>49604.000000</td>\n",
       "      <td>49604.000000</td>\n",
       "      <td>49604.000000</td>\n",
       "      <td>49604.000000</td>\n",
       "    </tr>\n",
       "    <tr>\n",
       "      <th>mean</th>\n",
       "      <td>2.277256</td>\n",
       "      <td>4.601482</td>\n",
       "      <td>1.074991</td>\n",
       "      <td>8.875314</td>\n",
       "      <td>60.883832</td>\n",
       "      <td>5.785418</td>\n",
       "      <td>4.777862</td>\n",
       "    </tr>\n",
       "    <tr>\n",
       "      <th>std</th>\n",
       "      <td>3.793300</td>\n",
       "      <td>0.565227</td>\n",
       "      <td>0.222666</td>\n",
       "      <td>19.989018</td>\n",
       "      <td>37.086239</td>\n",
       "      <td>5.669709</td>\n",
       "      <td>0.446220</td>\n",
       "    </tr>\n",
       "    <tr>\n",
       "      <th>min</th>\n",
       "      <td>0.000000</td>\n",
       "      <td>1.000000</td>\n",
       "      <td>1.000000</td>\n",
       "      <td>0.000000</td>\n",
       "      <td>0.000000</td>\n",
       "      <td>0.000000</td>\n",
       "      <td>1.000000</td>\n",
       "    </tr>\n",
       "    <tr>\n",
       "      <th>25%</th>\n",
       "      <td>0.000000</td>\n",
       "      <td>4.500000</td>\n",
       "      <td>1.000000</td>\n",
       "      <td>0.000000</td>\n",
       "      <td>33.300000</td>\n",
       "      <td>2.420000</td>\n",
       "      <td>4.700000</td>\n",
       "    </tr>\n",
       "    <tr>\n",
       "      <th>50%</th>\n",
       "      <td>1.000000</td>\n",
       "      <td>4.700000</td>\n",
       "      <td>1.000000</td>\n",
       "      <td>0.000000</td>\n",
       "      <td>66.700000</td>\n",
       "      <td>3.880000</td>\n",
       "      <td>5.000000</td>\n",
       "    </tr>\n",
       "    <tr>\n",
       "      <th>75%</th>\n",
       "      <td>3.000000</td>\n",
       "      <td>5.000000</td>\n",
       "      <td>1.050000</td>\n",
       "      <td>8.700000</td>\n",
       "      <td>100.000000</td>\n",
       "      <td>6.930000</td>\n",
       "      <td>5.000000</td>\n",
       "    </tr>\n",
       "    <tr>\n",
       "      <th>max</th>\n",
       "      <td>125.000000</td>\n",
       "      <td>5.000000</td>\n",
       "      <td>8.000000</td>\n",
       "      <td>100.000000</td>\n",
       "      <td>100.000000</td>\n",
       "      <td>160.960000</td>\n",
       "      <td>5.000000</td>\n",
       "    </tr>\n",
       "  </tbody>\n",
       "</table>\n",
       "</div>"
      ],
      "text/plain": [
       "       trips_in_first_30_days  avg_rating_of_driver     avg_surge  \\\n",
       "count            49604.000000          49604.000000  49604.000000   \n",
       "mean                 2.277256              4.601482      1.074991   \n",
       "std                  3.793300              0.565227      0.222666   \n",
       "min                  0.000000              1.000000      1.000000   \n",
       "25%                  0.000000              4.500000      1.000000   \n",
       "50%                  1.000000              4.700000      1.000000   \n",
       "75%                  3.000000              5.000000      1.050000   \n",
       "max                125.000000              5.000000      8.000000   \n",
       "\n",
       "          surge_pct   weekday_pct      avg_dist  avg_rating_by_driver  \n",
       "count  49604.000000  49604.000000  49604.000000          49604.000000  \n",
       "mean       8.875314     60.883832      5.785418              4.777862  \n",
       "std       19.989018     37.086239      5.669709              0.446220  \n",
       "min        0.000000      0.000000      0.000000              1.000000  \n",
       "25%        0.000000     33.300000      2.420000              4.700000  \n",
       "50%        0.000000     66.700000      3.880000              5.000000  \n",
       "75%        8.700000    100.000000      6.930000              5.000000  \n",
       "max      100.000000    100.000000    160.960000              5.000000  "
      ]
     },
     "execution_count": 59,
     "metadata": {},
     "output_type": "execute_result"
    }
   ],
   "source": [
    "df.describe()"
   ]
  },
  {
   "cell_type": "markdown",
   "id": "18cc0437",
   "metadata": {},
   "source": [
    "* Looks like most of the trips are occuring during weekdays -- mean = ~60% for both groups\n"
   ]
  },
  {
   "cell_type": "code",
   "execution_count": 60,
   "id": "cf24429b",
   "metadata": {},
   "outputs": [
    {
     "data": {
      "text/html": [
       "<div>\n",
       "<style scoped>\n",
       "    .dataframe tbody tr th:only-of-type {\n",
       "        vertical-align: middle;\n",
       "    }\n",
       "\n",
       "    .dataframe tbody tr th {\n",
       "        vertical-align: top;\n",
       "    }\n",
       "\n",
       "    .dataframe thead th {\n",
       "        text-align: right;\n",
       "    }\n",
       "</style>\n",
       "<table border=\"1\" class=\"dataframe\">\n",
       "  <thead>\n",
       "    <tr style=\"text-align: right;\">\n",
       "      <th></th>\n",
       "      <th>trips_in_first_30_days</th>\n",
       "      <th>avg_rating_of_driver</th>\n",
       "      <th>avg_surge</th>\n",
       "      <th>surge_pct</th>\n",
       "      <th>weekday_pct</th>\n",
       "      <th>avg_dist</th>\n",
       "      <th>avg_rating_by_driver</th>\n",
       "    </tr>\n",
       "  </thead>\n",
       "  <tbody>\n",
       "    <tr>\n",
       "      <th>count</th>\n",
       "      <td>18671.000000</td>\n",
       "      <td>18671.000000</td>\n",
       "      <td>18671.000000</td>\n",
       "      <td>18671.000000</td>\n",
       "      <td>18671.000000</td>\n",
       "      <td>18671.000000</td>\n",
       "      <td>18671.000000</td>\n",
       "    </tr>\n",
       "    <tr>\n",
       "      <th>mean</th>\n",
       "      <td>3.304804</td>\n",
       "      <td>4.593778</td>\n",
       "      <td>1.073834</td>\n",
       "      <td>9.165615</td>\n",
       "      <td>61.344208</td>\n",
       "      <td>5.113930</td>\n",
       "      <td>4.762740</td>\n",
       "    </tr>\n",
       "    <tr>\n",
       "      <th>std</th>\n",
       "      <td>4.985057</td>\n",
       "      <td>0.518625</td>\n",
       "      <td>0.162905</td>\n",
       "      <td>15.599652</td>\n",
       "      <td>29.512875</td>\n",
       "      <td>4.617779</td>\n",
       "      <td>0.328707</td>\n",
       "    </tr>\n",
       "    <tr>\n",
       "      <th>min</th>\n",
       "      <td>0.000000</td>\n",
       "      <td>1.000000</td>\n",
       "      <td>1.000000</td>\n",
       "      <td>0.000000</td>\n",
       "      <td>0.000000</td>\n",
       "      <td>0.000000</td>\n",
       "      <td>1.000000</td>\n",
       "    </tr>\n",
       "    <tr>\n",
       "      <th>25%</th>\n",
       "      <td>0.000000</td>\n",
       "      <td>4.400000</td>\n",
       "      <td>1.000000</td>\n",
       "      <td>0.000000</td>\n",
       "      <td>44.400000</td>\n",
       "      <td>2.560000</td>\n",
       "      <td>4.700000</td>\n",
       "    </tr>\n",
       "    <tr>\n",
       "      <th>50%</th>\n",
       "      <td>2.000000</td>\n",
       "      <td>4.700000</td>\n",
       "      <td>1.000000</td>\n",
       "      <td>0.000000</td>\n",
       "      <td>64.300000</td>\n",
       "      <td>3.730000</td>\n",
       "      <td>4.800000</td>\n",
       "    </tr>\n",
       "    <tr>\n",
       "      <th>75%</th>\n",
       "      <td>4.000000</td>\n",
       "      <td>5.000000</td>\n",
       "      <td>1.090000</td>\n",
       "      <td>13.300000</td>\n",
       "      <td>84.600000</td>\n",
       "      <td>5.890000</td>\n",
       "      <td>5.000000</td>\n",
       "    </tr>\n",
       "    <tr>\n",
       "      <th>max</th>\n",
       "      <td>125.000000</td>\n",
       "      <td>5.000000</td>\n",
       "      <td>4.500000</td>\n",
       "      <td>100.000000</td>\n",
       "      <td>100.000000</td>\n",
       "      <td>160.960000</td>\n",
       "      <td>5.000000</td>\n",
       "    </tr>\n",
       "  </tbody>\n",
       "</table>\n",
       "</div>"
      ],
      "text/plain": [
       "       trips_in_first_30_days  avg_rating_of_driver     avg_surge  \\\n",
       "count            18671.000000          18671.000000  18671.000000   \n",
       "mean                 3.304804              4.593778      1.073834   \n",
       "std                  4.985057              0.518625      0.162905   \n",
       "min                  0.000000              1.000000      1.000000   \n",
       "25%                  0.000000              4.400000      1.000000   \n",
       "50%                  2.000000              4.700000      1.000000   \n",
       "75%                  4.000000              5.000000      1.090000   \n",
       "max                125.000000              5.000000      4.500000   \n",
       "\n",
       "          surge_pct   weekday_pct      avg_dist  avg_rating_by_driver  \n",
       "count  18671.000000  18671.000000  18671.000000          18671.000000  \n",
       "mean       9.165615     61.344208      5.113930              4.762740  \n",
       "std       15.599652     29.512875      4.617779              0.328707  \n",
       "min        0.000000      0.000000      0.000000              1.000000  \n",
       "25%        0.000000     44.400000      2.560000              4.700000  \n",
       "50%        0.000000     64.300000      3.730000              4.800000  \n",
       "75%       13.300000     84.600000      5.890000              5.000000  \n",
       "max      100.000000    100.000000    160.960000              5.000000  "
      ]
     },
     "execution_count": 60,
     "metadata": {},
     "output_type": "execute_result"
    }
   ],
   "source": [
    "#Now let's take a look at factors that could be Active/Inactive contributors\n",
    "\n",
    "active.describe()"
   ]
  },
  {
   "cell_type": "code",
   "execution_count": 61,
   "id": "b87c74b7",
   "metadata": {},
   "outputs": [
    {
     "data": {
      "text/html": [
       "<div>\n",
       "<style scoped>\n",
       "    .dataframe tbody tr th:only-of-type {\n",
       "        vertical-align: middle;\n",
       "    }\n",
       "\n",
       "    .dataframe tbody tr th {\n",
       "        vertical-align: top;\n",
       "    }\n",
       "\n",
       "    .dataframe thead th {\n",
       "        text-align: right;\n",
       "    }\n",
       "</style>\n",
       "<table border=\"1\" class=\"dataframe\">\n",
       "  <thead>\n",
       "    <tr style=\"text-align: right;\">\n",
       "      <th></th>\n",
       "      <th>trips_in_first_30_days</th>\n",
       "      <th>avg_rating_of_driver</th>\n",
       "      <th>avg_surge</th>\n",
       "      <th>surge_pct</th>\n",
       "      <th>weekday_pct</th>\n",
       "      <th>avg_dist</th>\n",
       "      <th>avg_rating_by_driver</th>\n",
       "    </tr>\n",
       "  </thead>\n",
       "  <tbody>\n",
       "    <tr>\n",
       "      <th>count</th>\n",
       "      <td>30933.000000</td>\n",
       "      <td>30933.000000</td>\n",
       "      <td>30933.000000</td>\n",
       "      <td>30933.000000</td>\n",
       "      <td>30933.000000</td>\n",
       "      <td>30933.000000</td>\n",
       "      <td>30933.000000</td>\n",
       "    </tr>\n",
       "    <tr>\n",
       "      <th>mean</th>\n",
       "      <td>1.657033</td>\n",
       "      <td>4.606132</td>\n",
       "      <td>1.075689</td>\n",
       "      <td>8.700091</td>\n",
       "      <td>60.605952</td>\n",
       "      <td>6.190725</td>\n",
       "      <td>4.786990</td>\n",
       "    </tr>\n",
       "    <tr>\n",
       "      <th>std</th>\n",
       "      <td>2.655767</td>\n",
       "      <td>0.591542</td>\n",
       "      <td>0.251969</td>\n",
       "      <td>22.221133</td>\n",
       "      <td>40.983689</td>\n",
       "      <td>6.184010</td>\n",
       "      <td>0.503848</td>\n",
       "    </tr>\n",
       "    <tr>\n",
       "      <th>min</th>\n",
       "      <td>0.000000</td>\n",
       "      <td>1.000000</td>\n",
       "      <td>1.000000</td>\n",
       "      <td>0.000000</td>\n",
       "      <td>0.000000</td>\n",
       "      <td>0.000000</td>\n",
       "      <td>1.000000</td>\n",
       "    </tr>\n",
       "    <tr>\n",
       "      <th>25%</th>\n",
       "      <td>0.000000</td>\n",
       "      <td>4.500000</td>\n",
       "      <td>1.000000</td>\n",
       "      <td>0.000000</td>\n",
       "      <td>16.700000</td>\n",
       "      <td>2.310000</td>\n",
       "      <td>4.800000</td>\n",
       "    </tr>\n",
       "    <tr>\n",
       "      <th>50%</th>\n",
       "      <td>1.000000</td>\n",
       "      <td>4.800000</td>\n",
       "      <td>1.000000</td>\n",
       "      <td>0.000000</td>\n",
       "      <td>69.200000</td>\n",
       "      <td>4.030000</td>\n",
       "      <td>5.000000</td>\n",
       "    </tr>\n",
       "    <tr>\n",
       "      <th>75%</th>\n",
       "      <td>2.000000</td>\n",
       "      <td>5.000000</td>\n",
       "      <td>1.000000</td>\n",
       "      <td>0.000000</td>\n",
       "      <td>100.000000</td>\n",
       "      <td>7.780000</td>\n",
       "      <td>5.000000</td>\n",
       "    </tr>\n",
       "    <tr>\n",
       "      <th>max</th>\n",
       "      <td>73.000000</td>\n",
       "      <td>5.000000</td>\n",
       "      <td>8.000000</td>\n",
       "      <td>100.000000</td>\n",
       "      <td>100.000000</td>\n",
       "      <td>79.690000</td>\n",
       "      <td>5.000000</td>\n",
       "    </tr>\n",
       "  </tbody>\n",
       "</table>\n",
       "</div>"
      ],
      "text/plain": [
       "       trips_in_first_30_days  avg_rating_of_driver     avg_surge  \\\n",
       "count            30933.000000          30933.000000  30933.000000   \n",
       "mean                 1.657033              4.606132      1.075689   \n",
       "std                  2.655767              0.591542      0.251969   \n",
       "min                  0.000000              1.000000      1.000000   \n",
       "25%                  0.000000              4.500000      1.000000   \n",
       "50%                  1.000000              4.800000      1.000000   \n",
       "75%                  2.000000              5.000000      1.000000   \n",
       "max                 73.000000              5.000000      8.000000   \n",
       "\n",
       "          surge_pct   weekday_pct      avg_dist  avg_rating_by_driver  \n",
       "count  30933.000000  30933.000000  30933.000000          30933.000000  \n",
       "mean       8.700091     60.605952      6.190725              4.786990  \n",
       "std       22.221133     40.983689      6.184010              0.503848  \n",
       "min        0.000000      0.000000      0.000000              1.000000  \n",
       "25%        0.000000     16.700000      2.310000              4.800000  \n",
       "50%        0.000000     69.200000      4.030000              5.000000  \n",
       "75%        0.000000    100.000000      7.780000              5.000000  \n",
       "max      100.000000    100.000000     79.690000              5.000000  "
      ]
     },
     "execution_count": 61,
     "metadata": {},
     "output_type": "execute_result"
    }
   ],
   "source": [
    "inactive.describe()"
   ]
  },
  {
   "cell_type": "markdown",
   "id": "6a34a5d4",
   "metadata": {},
   "source": [
    "* Looks like the biggest difference here is the number of trips a user is taking in the first 30 days of signing up. Active members are taking on average 1.64 more trips in the first month. This could be a sign to increase trip offers for a members first month ('Members that take 3 trips within the first month of signing up are more likely to be retained as long term active users) "
   ]
  },
  {
   "cell_type": "code",
   "execution_count": 62,
   "id": "af75e405",
   "metadata": {},
   "outputs": [
    {
     "data": {
      "text/plain": [
       "Winterfell        0.436399\n",
       "King's Landing    0.338761\n",
       "Astapor           0.224841\n",
       "Name: city, dtype: float64"
      ]
     },
     "execution_count": 62,
     "metadata": {},
     "output_type": "execute_result"
    }
   ],
   "source": [
    "active.city.value_counts(normalize=True)"
   ]
  },
  {
   "cell_type": "code",
   "execution_count": 63,
   "id": "c3f74de2",
   "metadata": {},
   "outputs": [
    {
     "data": {
      "text/plain": [
       "Winterfell        0.484175\n",
       "Astapor           0.394886\n",
       "King's Landing    0.120939\n",
       "Name: city, dtype: float64"
      ]
     },
     "execution_count": 63,
     "metadata": {},
     "output_type": "execute_result"
    }
   ],
   "source": [
    "inactive.city.value_counts(normalize=True)"
   ]
  },
  {
   "cell_type": "code",
   "execution_count": 64,
   "id": "2111763a",
   "metadata": {},
   "outputs": [
    {
     "data": {
      "image/png": "[encoded data removed]",
      "text/plain": [
       "<Figure size 1200x1200 with 2 Axes>"
      ]
     },
     "metadata": {},
     "output_type": "display_data"
    }
   ],
   "source": [
    "values1 = active.city.value_counts()\n",
    "labels1 = ['Winterfell',\"King's Landing\",\"Astapor\"]\n",
    "colors1 = ['Blue','Orange','Green']\n",
    "\n",
    "values2 = inactive.city.value_counts()\n",
    "labels2 = ['Winterfell',\"Astapor\",\"King's Landing\"]\n",
    "colors2 = ['Blue','Green','Orange']\n",
    "\n",
    "figs, (ax1,ax2) = plt.subplots(1,2,figsize=(12,12))\n",
    "ax1.pie(values1,labels=labels1,colors=colors1,autopct='%1.1f%%',textprops={'fontsize':15})\n",
    "ax2.pie(values2,labels=labels2,colors=colors2,autopct='%1.1f%%',textprops={'fontsize':15})\n",
    "ax1.set_title('Active Member City')\n",
    "ax2.set_title('Inactive Member City')\n",
    "\n",
    "plt.show()\n"
   ]
  },
  {
   "cell_type": "markdown",
   "id": "1ddd48d9",
   "metadata": {},
   "source": [
    "* Much more use happening in King's Landing in 'Active' user dataset. -- potential for significant difference here. "
   ]
  },
  {
   "cell_type": "code",
   "execution_count": 65,
   "id": "103518bf",
   "metadata": {},
   "outputs": [
    {
     "data": {
      "text/plain": [
       "2014-01-25    1094\n",
       "2014-01-18    1065\n",
       "2014-01-11     885\n",
       "2014-01-24     836\n",
       "2014-01-31     769\n",
       "2014-01-17     755\n",
       "2014-01-06     753\n",
       "2014-01-10     739\n",
       "2014-01-19     709\n",
       "2014-01-01     699\n",
       "2014-01-26     674\n",
       "2014-01-04     634\n",
       "2014-01-05     592\n",
       "2014-01-23     573\n",
       "2014-01-07     553\n",
       "2014-01-09     532\n",
       "2014-01-22     530\n",
       "2014-01-16     517\n",
       "2014-01-30     496\n",
       "2014-01-28     495\n",
       "2014-01-03     494\n",
       "2014-01-27     485\n",
       "2014-01-12     471\n",
       "2014-01-21     462\n",
       "2014-01-08     457\n",
       "2014-01-29     440\n",
       "2014-01-20     428\n",
       "2014-01-14     406\n",
       "2014-01-13     392\n",
       "2014-01-15     372\n",
       "2014-01-02     364\n",
       "Name: signup_date, dtype: int64"
      ]
     },
     "execution_count": 65,
     "metadata": {},
     "output_type": "execute_result"
    }
   ],
   "source": [
    "active.signup_date.value_counts()"
   ]
  },
  {
   "cell_type": "code",
   "execution_count": 66,
   "id": "f3caa144",
   "metadata": {},
   "outputs": [
    {
     "data": {
      "text/plain": [
       "2014-01-18    1862\n",
       "2014-01-25    1773\n",
       "2014-01-11    1500\n",
       "2014-01-24    1430\n",
       "2014-01-17    1377\n",
       "2014-01-31    1316\n",
       "2014-01-19    1299\n",
       "2014-01-10    1267\n",
       "2014-01-01    1025\n",
       "2014-01-23    1022\n",
       "2014-01-26    1016\n",
       "2014-01-06     989\n",
       "2014-01-30     962\n",
       "2014-01-07     924\n",
       "2014-01-16     904\n",
       "2014-01-09     888\n",
       "2014-01-20     858\n",
       "2014-01-12     854\n",
       "2014-01-04     841\n",
       "2014-01-22     826\n",
       "2014-01-08     808\n",
       "2014-01-28     776\n",
       "2014-01-21     760\n",
       "2014-01-29     751\n",
       "2014-01-05     742\n",
       "2014-01-27     738\n",
       "2014-01-15     725\n",
       "2014-01-14     708\n",
       "2014-01-03     706\n",
       "2014-01-13     650\n",
       "2014-01-02     636\n",
       "Name: signup_date, dtype: int64"
      ]
     },
     "execution_count": 66,
     "metadata": {},
     "output_type": "execute_result"
    }
   ],
   "source": [
    "inactive.signup_date.value_counts()"
   ]
  },
  {
   "cell_type": "markdown",
   "id": "f771f00d",
   "metadata": {},
   "source": [
    "* Same top two signup dates. "
   ]
  },
  {
   "cell_type": "code",
   "execution_count": 67,
   "id": "ff96d677",
   "metadata": {},
   "outputs": [
    {
     "data": {
      "text/plain": [
       "iPhone     0.831503\n",
       "Android    0.168497\n",
       "Name: phone, dtype: float64"
      ]
     },
     "execution_count": 67,
     "metadata": {},
     "output_type": "execute_result"
    }
   ],
   "source": [
    "active.phone.value_counts(normalize=True)"
   ]
  },
  {
   "cell_type": "code",
   "execution_count": 68,
   "id": "120e7910",
   "metadata": {},
   "outputs": [
    {
     "data": {
      "text/plain": [
       "iPhone     0.616073\n",
       "Android    0.383927\n",
       "Name: phone, dtype: float64"
      ]
     },
     "execution_count": 68,
     "metadata": {},
     "output_type": "execute_result"
    }
   ],
   "source": [
    "inactive.phone.value_counts(normalize=True)"
   ]
  },
  {
   "cell_type": "code",
   "execution_count": 69,
   "id": "fdfe14e7",
   "metadata": {},
   "outputs": [
    {
     "data": {
      "image/png": "[encoded data removed]",
      "text/plain": [
       "<Figure size 1200x1200 with 2 Axes>"
      ]
     },
     "metadata": {},
     "output_type": "display_data"
    }
   ],
   "source": [
    "values1 = active.phone.value_counts()\n",
    "labels1 = ['iPhone','Android']\n",
    "\n",
    "values2 = inactive.phone.value_counts()\n",
    "labels2 = ['iPhone','Android']\n",
    "\n",
    "figs, (ax1,ax2) = plt.subplots(1,2,figsize=(12,12))\n",
    "ax1.pie(values1,labels=labels1,autopct='%1.1f%%',textprops={'fontsize':15})\n",
    "ax2.pie(values2,labels=labels2,autopct='%1.1f%%',textprops={'fontsize':15})\n",
    "ax1.set_title('Active Member Phone')\n",
    "ax2.set_title('Inactive Member Phone')\n",
    "\n",
    "plt.show()\n"
   ]
  },
  {
   "cell_type": "markdown",
   "id": "55b0f789",
   "metadata": {},
   "source": [
    "* Seems to be many more Iphone users in the active user dataset. Both distributions are fairly large but it is much smaller for the inactive user dataset. "
   ]
  },
  {
   "cell_type": "code",
   "execution_count": 70,
   "id": "8e396474",
   "metadata": {},
   "outputs": [
    {
     "data": {
      "text/plain": [
       "True     0.50399\n",
       "False    0.49601\n",
       "Name: ultimate_black_user, dtype: float64"
      ]
     },
     "execution_count": 70,
     "metadata": {},
     "output_type": "execute_result"
    }
   ],
   "source": [
    "active.ultimate_black_user.value_counts(normalize=True)"
   ]
  },
  {
   "cell_type": "code",
   "execution_count": 71,
   "id": "360d8ecb",
   "metadata": {},
   "outputs": [
    {
     "data": {
      "text/plain": [
       "False    0.702518\n",
       "True     0.297482\n",
       "Name: ultimate_black_user, dtype: float64"
      ]
     },
     "execution_count": 71,
     "metadata": {},
     "output_type": "execute_result"
    }
   ],
   "source": [
    "inactive.ultimate_black_user.value_counts(normalize=True)"
   ]
  },
  {
   "cell_type": "code",
   "execution_count": 73,
   "id": "726bcd73",
   "metadata": {},
   "outputs": [
    {
     "data": {
      "image/png": "[encoded data removed]",
      "text/plain": [
       "<Figure size 1200x1200 with 2 Axes>"
      ]
     },
     "metadata": {},
     "output_type": "display_data"
    }
   ],
   "source": [
    "values1 = active.ultimate_black_user.value_counts()\n",
    "labels1 = ['True','False']\n",
    "colors1 = ['Green','Red']\n",
    "\n",
    "values2 = inactive.ultimate_black_user.value_counts()\n",
    "labels2 = ['False','True']\n",
    "colors2 = ['Red','Green']\n",
    "\n",
    "figs, (ax1,ax2) = plt.subplots(1,2,figsize=(12,12))\n",
    "ax1.pie(values1,labels=labels1,colors=colors1,autopct='%1.1f%%',textprops={'fontsize':15})\n",
    "ax2.pie(values2,labels=labels2,colors = colors2,autopct='%1.1f%%',textprops={'fontsize':15})\n",
    "ax1.set_title('Ultimate Black - Active Member')\n",
    "ax2.set_title('Ultimate Black - Inactive Member')\n",
    "\n",
    "plt.show()\n"
   ]
  },
  {
   "cell_type": "markdown",
   "id": "40e8dc9e",
   "metadata": {},
   "source": [
    "* MANY more ultimate black users in the active user dataset. "
   ]
  },
  {
   "cell_type": "markdown",
   "id": "b9186091",
   "metadata": {},
   "source": [
    "Since our User activity columns tells us what we need to know about the users last trip, we'll drop that column. Signup date does not seem important since the top days were similar. "
   ]
  },
  {
   "cell_type": "code",
   "execution_count": 74,
   "id": "09b7f1e6",
   "metadata": {},
   "outputs": [],
   "source": [
    "df.drop(columns=['signup_date','last_trip_date'],inplace=True)"
   ]
  },
  {
   "cell_type": "code",
   "execution_count": 75,
   "id": "e58ea85d",
   "metadata": {},
   "outputs": [
    {
     "data": {
      "text/html": [
       "<div>\n",
       "<style scoped>\n",
       "    .dataframe tbody tr th:only-of-type {\n",
       "        vertical-align: middle;\n",
       "    }\n",
       "\n",
       "    .dataframe tbody tr th {\n",
       "        vertical-align: top;\n",
       "    }\n",
       "\n",
       "    .dataframe thead th {\n",
       "        text-align: right;\n",
       "    }\n",
       "</style>\n",
       "<table border=\"1\" class=\"dataframe\">\n",
       "  <thead>\n",
       "    <tr style=\"text-align: right;\">\n",
       "      <th></th>\n",
       "      <th>city</th>\n",
       "      <th>trips_in_first_30_days</th>\n",
       "      <th>avg_rating_of_driver</th>\n",
       "      <th>avg_surge</th>\n",
       "      <th>phone</th>\n",
       "      <th>surge_pct</th>\n",
       "      <th>ultimate_black_user</th>\n",
       "      <th>weekday_pct</th>\n",
       "      <th>avg_dist</th>\n",
       "      <th>avg_rating_by_driver</th>\n",
       "      <th>User_Activity</th>\n",
       "    </tr>\n",
       "  </thead>\n",
       "  <tbody>\n",
       "    <tr>\n",
       "      <th>0</th>\n",
       "      <td>King's Landing</td>\n",
       "      <td>4</td>\n",
       "      <td>4.700000</td>\n",
       "      <td>1.10</td>\n",
       "      <td>iPhone</td>\n",
       "      <td>15.4</td>\n",
       "      <td>True</td>\n",
       "      <td>46.2</td>\n",
       "      <td>3.67</td>\n",
       "      <td>5.0</td>\n",
       "      <td>Active</td>\n",
       "    </tr>\n",
       "    <tr>\n",
       "      <th>1</th>\n",
       "      <td>Astapor</td>\n",
       "      <td>0</td>\n",
       "      <td>5.000000</td>\n",
       "      <td>1.00</td>\n",
       "      <td>Android</td>\n",
       "      <td>0.0</td>\n",
       "      <td>False</td>\n",
       "      <td>50.0</td>\n",
       "      <td>8.26</td>\n",
       "      <td>5.0</td>\n",
       "      <td>Inactive</td>\n",
       "    </tr>\n",
       "    <tr>\n",
       "      <th>2</th>\n",
       "      <td>Astapor</td>\n",
       "      <td>3</td>\n",
       "      <td>4.300000</td>\n",
       "      <td>1.00</td>\n",
       "      <td>iPhone</td>\n",
       "      <td>0.0</td>\n",
       "      <td>False</td>\n",
       "      <td>100.0</td>\n",
       "      <td>0.77</td>\n",
       "      <td>5.0</td>\n",
       "      <td>Inactive</td>\n",
       "    </tr>\n",
       "    <tr>\n",
       "      <th>3</th>\n",
       "      <td>King's Landing</td>\n",
       "      <td>9</td>\n",
       "      <td>4.600000</td>\n",
       "      <td>1.14</td>\n",
       "      <td>iPhone</td>\n",
       "      <td>20.0</td>\n",
       "      <td>True</td>\n",
       "      <td>80.0</td>\n",
       "      <td>2.36</td>\n",
       "      <td>4.9</td>\n",
       "      <td>Active</td>\n",
       "    </tr>\n",
       "    <tr>\n",
       "      <th>4</th>\n",
       "      <td>Winterfell</td>\n",
       "      <td>14</td>\n",
       "      <td>4.400000</td>\n",
       "      <td>1.19</td>\n",
       "      <td>Android</td>\n",
       "      <td>11.8</td>\n",
       "      <td>False</td>\n",
       "      <td>82.4</td>\n",
       "      <td>3.13</td>\n",
       "      <td>4.9</td>\n",
       "      <td>Inactive</td>\n",
       "    </tr>\n",
       "    <tr>\n",
       "      <th>...</th>\n",
       "      <td>...</td>\n",
       "      <td>...</td>\n",
       "      <td>...</td>\n",
       "      <td>...</td>\n",
       "      <td>...</td>\n",
       "      <td>...</td>\n",
       "      <td>...</td>\n",
       "      <td>...</td>\n",
       "      <td>...</td>\n",
       "      <td>...</td>\n",
       "      <td>...</td>\n",
       "    </tr>\n",
       "    <tr>\n",
       "      <th>49995</th>\n",
       "      <td>King's Landing</td>\n",
       "      <td>0</td>\n",
       "      <td>5.000000</td>\n",
       "      <td>1.00</td>\n",
       "      <td>iPhone</td>\n",
       "      <td>0.0</td>\n",
       "      <td>False</td>\n",
       "      <td>100.0</td>\n",
       "      <td>5.63</td>\n",
       "      <td>4.2</td>\n",
       "      <td>Active</td>\n",
       "    </tr>\n",
       "    <tr>\n",
       "      <th>49996</th>\n",
       "      <td>Astapor</td>\n",
       "      <td>1</td>\n",
       "      <td>4.601559</td>\n",
       "      <td>1.00</td>\n",
       "      <td>iPhone</td>\n",
       "      <td>0.0</td>\n",
       "      <td>False</td>\n",
       "      <td>0.0</td>\n",
       "      <td>0.00</td>\n",
       "      <td>4.0</td>\n",
       "      <td>Inactive</td>\n",
       "    </tr>\n",
       "    <tr>\n",
       "      <th>49997</th>\n",
       "      <td>Winterfell</td>\n",
       "      <td>0</td>\n",
       "      <td>5.000000</td>\n",
       "      <td>1.00</td>\n",
       "      <td>Android</td>\n",
       "      <td>0.0</td>\n",
       "      <td>True</td>\n",
       "      <td>100.0</td>\n",
       "      <td>3.86</td>\n",
       "      <td>5.0</td>\n",
       "      <td>Inactive</td>\n",
       "    </tr>\n",
       "    <tr>\n",
       "      <th>49998</th>\n",
       "      <td>Astapor</td>\n",
       "      <td>2</td>\n",
       "      <td>3.000000</td>\n",
       "      <td>1.00</td>\n",
       "      <td>iPhone</td>\n",
       "      <td>0.0</td>\n",
       "      <td>False</td>\n",
       "      <td>100.0</td>\n",
       "      <td>4.58</td>\n",
       "      <td>3.5</td>\n",
       "      <td>Inactive</td>\n",
       "    </tr>\n",
       "    <tr>\n",
       "      <th>49999</th>\n",
       "      <td>Astapor</td>\n",
       "      <td>0</td>\n",
       "      <td>4.601559</td>\n",
       "      <td>1.00</td>\n",
       "      <td>Android</td>\n",
       "      <td>0.0</td>\n",
       "      <td>False</td>\n",
       "      <td>0.0</td>\n",
       "      <td>3.49</td>\n",
       "      <td>5.0</td>\n",
       "      <td>Inactive</td>\n",
       "    </tr>\n",
       "  </tbody>\n",
       "</table>\n",
       "<p>49604 rows × 11 columns</p>\n",
       "</div>"
      ],
      "text/plain": [
       "                 city  trips_in_first_30_days  avg_rating_of_driver  \\\n",
       "0      King's Landing                       4              4.700000   \n",
       "1             Astapor                       0              5.000000   \n",
       "2             Astapor                       3              4.300000   \n",
       "3      King's Landing                       9              4.600000   \n",
       "4          Winterfell                      14              4.400000   \n",
       "...               ...                     ...                   ...   \n",
       "49995  King's Landing                       0              5.000000   \n",
       "49996         Astapor                       1              4.601559   \n",
       "49997      Winterfell                       0              5.000000   \n",
       "49998         Astapor                       2              3.000000   \n",
       "49999         Astapor                       0              4.601559   \n",
       "\n",
       "       avg_surge    phone  surge_pct  ultimate_black_user  weekday_pct  \\\n",
       "0           1.10   iPhone       15.4                 True         46.2   \n",
       "1           1.00  Android        0.0                False         50.0   \n",
       "2           1.00   iPhone        0.0                False        100.0   \n",
       "3           1.14   iPhone       20.0                 True         80.0   \n",
       "4           1.19  Android       11.8                False         82.4   \n",
       "...          ...      ...        ...                  ...          ...   \n",
       "49995       1.00   iPhone        0.0                False        100.0   \n",
       "49996       1.00   iPhone        0.0                False          0.0   \n",
       "49997       1.00  Android        0.0                 True        100.0   \n",
       "49998       1.00   iPhone        0.0                False        100.0   \n",
       "49999       1.00  Android        0.0                False          0.0   \n",
       "\n",
       "       avg_dist  avg_rating_by_driver User_Activity  \n",
       "0          3.67                   5.0        Active  \n",
       "1          8.26                   5.0      Inactive  \n",
       "2          0.77                   5.0      Inactive  \n",
       "3          2.36                   4.9        Active  \n",
       "4          3.13                   4.9      Inactive  \n",
       "...         ...                   ...           ...  \n",
       "49995      5.63                   4.2        Active  \n",
       "49996      0.00                   4.0      Inactive  \n",
       "49997      3.86                   5.0      Inactive  \n",
       "49998      4.58                   3.5      Inactive  \n",
       "49999      3.49                   5.0      Inactive  \n",
       "\n",
       "[49604 rows x 11 columns]"
      ]
     },
     "execution_count": 75,
     "metadata": {},
     "output_type": "execute_result"
    }
   ],
   "source": [
    "df"
   ]
  },
  {
   "cell_type": "markdown",
   "id": "d0330b86",
   "metadata": {},
   "source": [
    "## Checking for Feature Importance: "
   ]
  },
  {
   "cell_type": "code",
   "execution_count": 76,
   "id": "102908b6",
   "metadata": {},
   "outputs": [],
   "source": [
    "from sklearn.ensemble import RandomForestClassifier\n",
    "from sklearn.preprocessing import StandardScaler\n",
    "from sklearn.model_selection import RandomizedSearchCV"
   ]
  },
  {
   "cell_type": "code",
   "execution_count": 77,
   "id": "5d79bf4a",
   "metadata": {},
   "outputs": [],
   "source": [
    "X = pd.get_dummies(df, columns=['city','phone','ultimate_black_user']).drop('User_Activity',axis=1)\n",
    "y = df.User_Activity"
   ]
  },
  {
   "cell_type": "code",
   "execution_count": 78,
   "id": "3766e9c4",
   "metadata": {},
   "outputs": [
    {
     "data": {
      "text/html": [
       "<div>\n",
       "<style scoped>\n",
       "    .dataframe tbody tr th:only-of-type {\n",
       "        vertical-align: middle;\n",
       "    }\n",
       "\n",
       "    .dataframe tbody tr th {\n",
       "        vertical-align: top;\n",
       "    }\n",
       "\n",
       "    .dataframe thead th {\n",
       "        text-align: right;\n",
       "    }\n",
       "</style>\n",
       "<table border=\"1\" class=\"dataframe\">\n",
       "  <thead>\n",
       "    <tr style=\"text-align: right;\">\n",
       "      <th></th>\n",
       "      <th>trips_in_first_30_days</th>\n",
       "      <th>avg_rating_of_driver</th>\n",
       "      <th>avg_surge</th>\n",
       "      <th>surge_pct</th>\n",
       "      <th>weekday_pct</th>\n",
       "      <th>avg_dist</th>\n",
       "      <th>avg_rating_by_driver</th>\n",
       "      <th>city_Astapor</th>\n",
       "      <th>city_King's Landing</th>\n",
       "      <th>city_Winterfell</th>\n",
       "      <th>phone_Android</th>\n",
       "      <th>phone_iPhone</th>\n",
       "      <th>ultimate_black_user_False</th>\n",
       "      <th>ultimate_black_user_True</th>\n",
       "    </tr>\n",
       "  </thead>\n",
       "  <tbody>\n",
       "    <tr>\n",
       "      <th>0</th>\n",
       "      <td>4</td>\n",
       "      <td>4.700000</td>\n",
       "      <td>1.10</td>\n",
       "      <td>15.4</td>\n",
       "      <td>46.2</td>\n",
       "      <td>3.67</td>\n",
       "      <td>5.0</td>\n",
       "      <td>0</td>\n",
       "      <td>1</td>\n",
       "      <td>0</td>\n",
       "      <td>0</td>\n",
       "      <td>1</td>\n",
       "      <td>0</td>\n",
       "      <td>1</td>\n",
       "    </tr>\n",
       "    <tr>\n",
       "      <th>1</th>\n",
       "      <td>0</td>\n",
       "      <td>5.000000</td>\n",
       "      <td>1.00</td>\n",
       "      <td>0.0</td>\n",
       "      <td>50.0</td>\n",
       "      <td>8.26</td>\n",
       "      <td>5.0</td>\n",
       "      <td>1</td>\n",
       "      <td>0</td>\n",
       "      <td>0</td>\n",
       "      <td>1</td>\n",
       "      <td>0</td>\n",
       "      <td>1</td>\n",
       "      <td>0</td>\n",
       "    </tr>\n",
       "    <tr>\n",
       "      <th>2</th>\n",
       "      <td>3</td>\n",
       "      <td>4.300000</td>\n",
       "      <td>1.00</td>\n",
       "      <td>0.0</td>\n",
       "      <td>100.0</td>\n",
       "      <td>0.77</td>\n",
       "      <td>5.0</td>\n",
       "      <td>1</td>\n",
       "      <td>0</td>\n",
       "      <td>0</td>\n",
       "      <td>0</td>\n",
       "      <td>1</td>\n",
       "      <td>1</td>\n",
       "      <td>0</td>\n",
       "    </tr>\n",
       "    <tr>\n",
       "      <th>3</th>\n",
       "      <td>9</td>\n",
       "      <td>4.600000</td>\n",
       "      <td>1.14</td>\n",
       "      <td>20.0</td>\n",
       "      <td>80.0</td>\n",
       "      <td>2.36</td>\n",
       "      <td>4.9</td>\n",
       "      <td>0</td>\n",
       "      <td>1</td>\n",
       "      <td>0</td>\n",
       "      <td>0</td>\n",
       "      <td>1</td>\n",
       "      <td>0</td>\n",
       "      <td>1</td>\n",
       "    </tr>\n",
       "    <tr>\n",
       "      <th>4</th>\n",
       "      <td>14</td>\n",
       "      <td>4.400000</td>\n",
       "      <td>1.19</td>\n",
       "      <td>11.8</td>\n",
       "      <td>82.4</td>\n",
       "      <td>3.13</td>\n",
       "      <td>4.9</td>\n",
       "      <td>0</td>\n",
       "      <td>0</td>\n",
       "      <td>1</td>\n",
       "      <td>1</td>\n",
       "      <td>0</td>\n",
       "      <td>1</td>\n",
       "      <td>0</td>\n",
       "    </tr>\n",
       "    <tr>\n",
       "      <th>...</th>\n",
       "      <td>...</td>\n",
       "      <td>...</td>\n",
       "      <td>...</td>\n",
       "      <td>...</td>\n",
       "      <td>...</td>\n",
       "      <td>...</td>\n",
       "      <td>...</td>\n",
       "      <td>...</td>\n",
       "      <td>...</td>\n",
       "      <td>...</td>\n",
       "      <td>...</td>\n",
       "      <td>...</td>\n",
       "      <td>...</td>\n",
       "      <td>...</td>\n",
       "    </tr>\n",
       "    <tr>\n",
       "      <th>49995</th>\n",
       "      <td>0</td>\n",
       "      <td>5.000000</td>\n",
       "      <td>1.00</td>\n",
       "      <td>0.0</td>\n",
       "      <td>100.0</td>\n",
       "      <td>5.63</td>\n",
       "      <td>4.2</td>\n",
       "      <td>0</td>\n",
       "      <td>1</td>\n",
       "      <td>0</td>\n",
       "      <td>0</td>\n",
       "      <td>1</td>\n",
       "      <td>1</td>\n",
       "      <td>0</td>\n",
       "    </tr>\n",
       "    <tr>\n",
       "      <th>49996</th>\n",
       "      <td>1</td>\n",
       "      <td>4.601559</td>\n",
       "      <td>1.00</td>\n",
       "      <td>0.0</td>\n",
       "      <td>0.0</td>\n",
       "      <td>0.00</td>\n",
       "      <td>4.0</td>\n",
       "      <td>1</td>\n",
       "      <td>0</td>\n",
       "      <td>0</td>\n",
       "      <td>0</td>\n",
       "      <td>1</td>\n",
       "      <td>1</td>\n",
       "      <td>0</td>\n",
       "    </tr>\n",
       "    <tr>\n",
       "      <th>49997</th>\n",
       "      <td>0</td>\n",
       "      <td>5.000000</td>\n",
       "      <td>1.00</td>\n",
       "      <td>0.0</td>\n",
       "      <td>100.0</td>\n",
       "      <td>3.86</td>\n",
       "      <td>5.0</td>\n",
       "      <td>0</td>\n",
       "      <td>0</td>\n",
       "      <td>1</td>\n",
       "      <td>1</td>\n",
       "      <td>0</td>\n",
       "      <td>0</td>\n",
       "      <td>1</td>\n",
       "    </tr>\n",
       "    <tr>\n",
       "      <th>49998</th>\n",
       "      <td>2</td>\n",
       "      <td>3.000000</td>\n",
       "      <td>1.00</td>\n",
       "      <td>0.0</td>\n",
       "      <td>100.0</td>\n",
       "      <td>4.58</td>\n",
       "      <td>3.5</td>\n",
       "      <td>1</td>\n",
       "      <td>0</td>\n",
       "      <td>0</td>\n",
       "      <td>0</td>\n",
       "      <td>1</td>\n",
       "      <td>1</td>\n",
       "      <td>0</td>\n",
       "    </tr>\n",
       "    <tr>\n",
       "      <th>49999</th>\n",
       "      <td>0</td>\n",
       "      <td>4.601559</td>\n",
       "      <td>1.00</td>\n",
       "      <td>0.0</td>\n",
       "      <td>0.0</td>\n",
       "      <td>3.49</td>\n",
       "      <td>5.0</td>\n",
       "      <td>1</td>\n",
       "      <td>0</td>\n",
       "      <td>0</td>\n",
       "      <td>1</td>\n",
       "      <td>0</td>\n",
       "      <td>1</td>\n",
       "      <td>0</td>\n",
       "    </tr>\n",
       "  </tbody>\n",
       "</table>\n",
       "<p>49604 rows × 14 columns</p>\n",
       "</div>"
      ],
      "text/plain": [
       "       trips_in_first_30_days  avg_rating_of_driver  avg_surge  surge_pct  \\\n",
       "0                           4              4.700000       1.10       15.4   \n",
       "1                           0              5.000000       1.00        0.0   \n",
       "2                           3              4.300000       1.00        0.0   \n",
       "3                           9              4.600000       1.14       20.0   \n",
       "4                          14              4.400000       1.19       11.8   \n",
       "...                       ...                   ...        ...        ...   \n",
       "49995                       0              5.000000       1.00        0.0   \n",
       "49996                       1              4.601559       1.00        0.0   \n",
       "49997                       0              5.000000       1.00        0.0   \n",
       "49998                       2              3.000000       1.00        0.0   \n",
       "49999                       0              4.601559       1.00        0.0   \n",
       "\n",
       "       weekday_pct  avg_dist  avg_rating_by_driver  city_Astapor  \\\n",
       "0             46.2      3.67                   5.0             0   \n",
       "1             50.0      8.26                   5.0             1   \n",
       "2            100.0      0.77                   5.0             1   \n",
       "3             80.0      2.36                   4.9             0   \n",
       "4             82.4      3.13                   4.9             0   \n",
       "...            ...       ...                   ...           ...   \n",
       "49995        100.0      5.63                   4.2             0   \n",
       "49996          0.0      0.00                   4.0             1   \n",
       "49997        100.0      3.86                   5.0             0   \n",
       "49998        100.0      4.58                   3.5             1   \n",
       "49999          0.0      3.49                   5.0             1   \n",
       "\n",
       "       city_King's Landing  city_Winterfell  phone_Android  phone_iPhone  \\\n",
       "0                        1                0              0             1   \n",
       "1                        0                0              1             0   \n",
       "2                        0                0              0             1   \n",
       "3                        1                0              0             1   \n",
       "4                        0                1              1             0   \n",
       "...                    ...              ...            ...           ...   \n",
       "49995                    1                0              0             1   \n",
       "49996                    0                0              0             1   \n",
       "49997                    0                1              1             0   \n",
       "49998                    0                0              0             1   \n",
       "49999                    0                0              1             0   \n",
       "\n",
       "       ultimate_black_user_False  ultimate_black_user_True  \n",
       "0                              0                         1  \n",
       "1                              1                         0  \n",
       "2                              1                         0  \n",
       "3                              0                         1  \n",
       "4                              1                         0  \n",
       "...                          ...                       ...  \n",
       "49995                          1                         0  \n",
       "49996                          1                         0  \n",
       "49997                          0                         1  \n",
       "49998                          1                         0  \n",
       "49999                          1                         0  \n",
       "\n",
       "[49604 rows x 14 columns]"
      ]
     },
     "execution_count": 78,
     "metadata": {},
     "output_type": "execute_result"
    }
   ],
   "source": [
    "X"
   ]
  },
  {
   "cell_type": "code",
   "execution_count": 79,
   "id": "3b0b1d74",
   "metadata": {},
   "outputs": [],
   "source": [
    "scaler = StandardScaler()\n",
    "\n",
    "model = RandomForestClassifier()\n",
    "\n",
    "model.fit(scaler.fit_transform(X),y)\n",
    "importances = model.feature_importances_\n"
   ]
  },
  {
   "cell_type": "code",
   "execution_count": 80,
   "id": "572c7594",
   "metadata": {},
   "outputs": [
    {
     "data": {
      "text/plain": [
       "array([0.07892661, 0.08083118, 0.06593803, 0.07859199, 0.13453502,\n",
       "       0.30419045, 0.11277375, 0.01564747, 0.04849236, 0.01053107,\n",
       "       0.01833189, 0.01908642, 0.01517014, 0.01695361])"
      ]
     },
     "execution_count": 80,
     "metadata": {},
     "output_type": "execute_result"
    }
   ],
   "source": [
    "importances "
   ]
  },
  {
   "cell_type": "code",
   "execution_count": 81,
   "id": "df0b05af",
   "metadata": {},
   "outputs": [
    {
     "data": {
      "text/html": [
       "<div>\n",
       "<style scoped>\n",
       "    .dataframe tbody tr th:only-of-type {\n",
       "        vertical-align: middle;\n",
       "    }\n",
       "\n",
       "    .dataframe tbody tr th {\n",
       "        vertical-align: top;\n",
       "    }\n",
       "\n",
       "    .dataframe thead th {\n",
       "        text-align: right;\n",
       "    }\n",
       "</style>\n",
       "<table border=\"1\" class=\"dataframe\">\n",
       "  <thead>\n",
       "    <tr style=\"text-align: right;\">\n",
       "      <th></th>\n",
       "      <th>importances</th>\n",
       "    </tr>\n",
       "  </thead>\n",
       "  <tbody>\n",
       "    <tr>\n",
       "      <th>trips_in_first_30_days</th>\n",
       "      <td>0.078927</td>\n",
       "    </tr>\n",
       "    <tr>\n",
       "      <th>avg_rating_of_driver</th>\n",
       "      <td>0.080831</td>\n",
       "    </tr>\n",
       "    <tr>\n",
       "      <th>avg_surge</th>\n",
       "      <td>0.065938</td>\n",
       "    </tr>\n",
       "    <tr>\n",
       "      <th>surge_pct</th>\n",
       "      <td>0.078592</td>\n",
       "    </tr>\n",
       "    <tr>\n",
       "      <th>weekday_pct</th>\n",
       "      <td>0.134535</td>\n",
       "    </tr>\n",
       "    <tr>\n",
       "      <th>avg_dist</th>\n",
       "      <td>0.304190</td>\n",
       "    </tr>\n",
       "    <tr>\n",
       "      <th>avg_rating_by_driver</th>\n",
       "      <td>0.112774</td>\n",
       "    </tr>\n",
       "    <tr>\n",
       "      <th>city_Astapor</th>\n",
       "      <td>0.015647</td>\n",
       "    </tr>\n",
       "    <tr>\n",
       "      <th>city_King's Landing</th>\n",
       "      <td>0.048492</td>\n",
       "    </tr>\n",
       "    <tr>\n",
       "      <th>city_Winterfell</th>\n",
       "      <td>0.010531</td>\n",
       "    </tr>\n",
       "    <tr>\n",
       "      <th>phone_Android</th>\n",
       "      <td>0.018332</td>\n",
       "    </tr>\n",
       "    <tr>\n",
       "      <th>phone_iPhone</th>\n",
       "      <td>0.019086</td>\n",
       "    </tr>\n",
       "    <tr>\n",
       "      <th>ultimate_black_user_False</th>\n",
       "      <td>0.015170</td>\n",
       "    </tr>\n",
       "    <tr>\n",
       "      <th>ultimate_black_user_True</th>\n",
       "      <td>0.016954</td>\n",
       "    </tr>\n",
       "  </tbody>\n",
       "</table>\n",
       "</div>"
      ],
      "text/plain": [
       "                           importances\n",
       "trips_in_first_30_days        0.078927\n",
       "avg_rating_of_driver          0.080831\n",
       "avg_surge                     0.065938\n",
       "surge_pct                     0.078592\n",
       "weekday_pct                   0.134535\n",
       "avg_dist                      0.304190\n",
       "avg_rating_by_driver          0.112774\n",
       "city_Astapor                  0.015647\n",
       "city_King's Landing           0.048492\n",
       "city_Winterfell               0.010531\n",
       "phone_Android                 0.018332\n",
       "phone_iPhone                  0.019086\n",
       "ultimate_black_user_False     0.015170\n",
       "ultimate_black_user_True      0.016954"
      ]
     },
     "execution_count": 81,
     "metadata": {},
     "output_type": "execute_result"
    }
   ],
   "source": [
    "scaled_df = pd.DataFrame.from_dict(dict(zip(X.columns,importances)),orient = 'index',columns = ['importances'])\n",
    "scaled_df"
   ]
  },
  {
   "cell_type": "code",
   "execution_count": 82,
   "id": "b37d32ca",
   "metadata": {},
   "outputs": [
    {
     "data": {
      "image/png": "[encoded data removed]",
      "text/plain": [
       "<Figure size 640x480 with 1 Axes>"
      ]
     },
     "metadata": {},
     "output_type": "display_data"
    }
   ],
   "source": [
    "_= scaled_df.sort_values('importances',ascending = False).plot(kind='bar')\n",
    "plt.title('Feature Importances')\n",
    "plt.xlabel('Features')\n",
    "plt.ylabel('Importance')\n",
    "plt.show()"
   ]
  },
  {
   "cell_type": "markdown",
   "id": "a4fb3b76",
   "metadata": {},
   "source": [
    "Looks like avg_distance is our most important feature, followed by % of trips occuring during a weekday and a user's average rating by a driver "
   ]
  },
  {
   "cell_type": "code",
   "execution_count": 83,
   "id": "6b303559",
   "metadata": {},
   "outputs": [],
   "source": [
    "#Need to address how unbalanced our data is -- going to use SMOTE to adjust for this \n",
    "\n",
    "X = pd.get_dummies(df, columns=['city','phone','ultimate_black_user']).drop('User_Activity',axis=1)\n",
    "y = df.User_Activity \n",
    "\n",
    "from imblearn.over_sampling import SMOTE\n",
    "smote = SMOTE()\n",
    "x_smote,y_smote = smote.fit_resample(X,y)"
   ]
  },
  {
   "cell_type": "code",
   "execution_count": 84,
   "id": "e18a5d7d",
   "metadata": {},
   "outputs": [],
   "source": [
    "X_train,X_test,y_train,y_test = train_test_split(x_smote,y_smote,test_size=0.3,random_state=123)"
   ]
  },
  {
   "cell_type": "code",
   "execution_count": 85,
   "id": "98948fd9",
   "metadata": {},
   "outputs": [],
   "source": [
    "n_estimators=[500,800,1500,2500,5000]\n",
    "max_features = ['auto','sqrt','log2']\n",
    "max_depth = [10,20,30,40,50]\n",
    "max_depth.append(None)\n",
    "min_samples_split = [2,5,10,15,20]\n",
    "min_samples_leaf = [1,2,5,10,15]\n",
    "grid_param = {'n_estimators':n_estimators,'max_features':max_features,'max_depth':max_depth,'min_samples_split':min_samples_split,'min_samples_leaf':min_samples_leaf}\n"
   ]
  },
  {
   "cell_type": "code",
   "execution_count": 298,
   "id": "c81573c5",
   "metadata": {},
   "outputs": [
    {
     "name": "stdout",
     "output_type": "stream",
     "text": [
      "Fitting 5 folds for each of 500 candidates, totalling 2500 fits\n"
     ]
    },
    {
     "data": {
      "text/plain": [
       "{'n_estimators': 5000,\n",
       " 'min_samples_split': 2,\n",
       " 'min_samples_leaf': 2,\n",
       " 'max_features': 'sqrt',\n",
       " 'max_depth': 20}"
      ]
     },
     "execution_count": 298,
     "metadata": {},
     "output_type": "execute_result"
    }
   ],
   "source": [
    "RF_random = RandomizedSearchCV(estimator = model, param_distributions = grid_param, n_iter=500, cv=5, verbose=2,random_state=111,n_jobs=-1)\n",
    "RF_random.fit(X_train,y_train)\n",
    "RF_random.best_params_"
   ]
  },
  {
   "cell_type": "code",
   "execution_count": 86,
   "id": "391e958a",
   "metadata": {},
   "outputs": [],
   "source": [
    "RF_model = RandomForestClassifier(n_estimators=5000,min_samples_split=2,min_samples_leaf=2,max_features='sqrt',max_depth=20)\n"
   ]
  },
  {
   "cell_type": "code",
   "execution_count": 87,
   "id": "ad16c1ab",
   "metadata": {},
   "outputs": [
    {
     "data": {
      "text/plain": [
       "RandomForestClassifier(max_depth=20, max_features='sqrt', min_samples_leaf=2,\n",
       "                       n_estimators=5000)"
      ]
     },
     "execution_count": 87,
     "metadata": {},
     "output_type": "execute_result"
    }
   ],
   "source": [
    "RF_model.fit(X_train,y_train)"
   ]
  },
  {
   "cell_type": "code",
   "execution_count": 88,
   "id": "146167b4",
   "metadata": {},
   "outputs": [],
   "source": [
    "rf_predict = RF_model.predict(X_test)"
   ]
  },
  {
   "cell_type": "code",
   "execution_count": 89,
   "id": "d9a62996",
   "metadata": {},
   "outputs": [],
   "source": [
    "rf_probs = RF_model.predict_proba(X_test)[:,1]"
   ]
  },
  {
   "cell_type": "code",
   "execution_count": 90,
   "id": "d400fcf4",
   "metadata": {},
   "outputs": [
    {
     "data": {
      "text/plain": [
       "0.8910445533772553"
      ]
     },
     "execution_count": 90,
     "metadata": {},
     "output_type": "execute_result"
    }
   ],
   "source": [
    "roc_value = roc_auc_score(y_test,rf_probs)\n",
    "roc_value"
   ]
  },
  {
   "cell_type": "code",
   "execution_count": 91,
   "id": "031d0906",
   "metadata": {},
   "outputs": [
    {
     "name": "stdout",
     "output_type": "stream",
     "text": [
      "7395 1863 1698 7604\n"
     ]
    }
   ],
   "source": [
    "tn,fp,fn,tp = confusion_matrix(y_test,rf_predict).ravel()\n",
    "print(tn,fp,fn,tp)"
   ]
  },
  {
   "cell_type": "code",
   "execution_count": 97,
   "id": "06b908e8",
   "metadata": {},
   "outputs": [],
   "source": [
    "from sklearn.linear_model import LogisticRegression \n",
    "from sklearn.metrics import accuracy_score"
   ]
  },
  {
   "cell_type": "code",
   "execution_count": 93,
   "id": "5a9d8c6b",
   "metadata": {},
   "outputs": [
    {
     "name": "stderr",
     "output_type": "stream",
     "text": [
      "/opt/anaconda3/lib/python3.8/site-packages/sklearn/linear_model/_logistic.py:763: ConvergenceWarning: lbfgs failed to converge (status=1):\n",
      "STOP: TOTAL NO. of ITERATIONS REACHED LIMIT.\n",
      "\n",
      "Increase the number of iterations (max_iter) or scale the data as shown in:\n",
      "    https://scikit-learn.org/stable/modules/preprocessing.html\n",
      "Please also refer to the documentation for alternative solver options:\n",
      "    https://scikit-learn.org/stable/modules/linear_model.html#logistic-regression\n",
      "  n_iter_i = _check_optimize_result(\n",
      "/opt/anaconda3/lib/python3.8/site-packages/sklearn/linear_model/_logistic.py:763: ConvergenceWarning: lbfgs failed to converge (status=1):\n",
      "STOP: TOTAL NO. of ITERATIONS REACHED LIMIT.\n",
      "\n",
      "Increase the number of iterations (max_iter) or scale the data as shown in:\n",
      "    https://scikit-learn.org/stable/modules/preprocessing.html\n",
      "Please also refer to the documentation for alternative solver options:\n",
      "    https://scikit-learn.org/stable/modules/linear_model.html#logistic-regression\n",
      "  n_iter_i = _check_optimize_result(\n",
      "/opt/anaconda3/lib/python3.8/site-packages/sklearn/linear_model/_logistic.py:763: ConvergenceWarning: lbfgs failed to converge (status=1):\n",
      "STOP: TOTAL NO. of ITERATIONS REACHED LIMIT.\n",
      "\n",
      "Increase the number of iterations (max_iter) or scale the data as shown in:\n",
      "    https://scikit-learn.org/stable/modules/preprocessing.html\n",
      "Please also refer to the documentation for alternative solver options:\n",
      "    https://scikit-learn.org/stable/modules/linear_model.html#logistic-regression\n",
      "  n_iter_i = _check_optimize_result(\n",
      "/opt/anaconda3/lib/python3.8/site-packages/sklearn/linear_model/_logistic.py:763: ConvergenceWarning: lbfgs failed to converge (status=1):\n",
      "STOP: TOTAL NO. of ITERATIONS REACHED LIMIT.\n",
      "\n",
      "Increase the number of iterations (max_iter) or scale the data as shown in:\n",
      "    https://scikit-learn.org/stable/modules/preprocessing.html\n",
      "Please also refer to the documentation for alternative solver options:\n",
      "    https://scikit-learn.org/stable/modules/linear_model.html#logistic-regression\n",
      "  n_iter_i = _check_optimize_result(\n",
      "/opt/anaconda3/lib/python3.8/site-packages/sklearn/linear_model/_logistic.py:763: ConvergenceWarning: lbfgs failed to converge (status=1):\n",
      "STOP: TOTAL NO. of ITERATIONS REACHED LIMIT.\n",
      "\n",
      "Increase the number of iterations (max_iter) or scale the data as shown in:\n",
      "    https://scikit-learn.org/stable/modules/preprocessing.html\n",
      "Please also refer to the documentation for alternative solver options:\n",
      "    https://scikit-learn.org/stable/modules/linear_model.html#logistic-regression\n",
      "  n_iter_i = _check_optimize_result(\n",
      "/opt/anaconda3/lib/python3.8/site-packages/sklearn/linear_model/_logistic.py:763: ConvergenceWarning: lbfgs failed to converge (status=1):\n",
      "STOP: TOTAL NO. of ITERATIONS REACHED LIMIT.\n",
      "\n",
      "Increase the number of iterations (max_iter) or scale the data as shown in:\n",
      "    https://scikit-learn.org/stable/modules/preprocessing.html\n",
      "Please also refer to the documentation for alternative solver options:\n",
      "    https://scikit-learn.org/stable/modules/linear_model.html#logistic-regression\n",
      "  n_iter_i = _check_optimize_result(\n",
      "/opt/anaconda3/lib/python3.8/site-packages/sklearn/linear_model/_logistic.py:763: ConvergenceWarning: lbfgs failed to converge (status=1):\n",
      "STOP: TOTAL NO. of ITERATIONS REACHED LIMIT.\n",
      "\n",
      "Increase the number of iterations (max_iter) or scale the data as shown in:\n",
      "    https://scikit-learn.org/stable/modules/preprocessing.html\n",
      "Please also refer to the documentation for alternative solver options:\n",
      "    https://scikit-learn.org/stable/modules/linear_model.html#logistic-regression\n",
      "  n_iter_i = _check_optimize_result(\n",
      "/opt/anaconda3/lib/python3.8/site-packages/sklearn/linear_model/_logistic.py:763: ConvergenceWarning: lbfgs failed to converge (status=1):\n",
      "STOP: TOTAL NO. of ITERATIONS REACHED LIMIT.\n",
      "\n",
      "Increase the number of iterations (max_iter) or scale the data as shown in:\n",
      "    https://scikit-learn.org/stable/modules/preprocessing.html\n",
      "Please also refer to the documentation for alternative solver options:\n",
      "    https://scikit-learn.org/stable/modules/linear_model.html#logistic-regression\n",
      "  n_iter_i = _check_optimize_result(\n",
      "/opt/anaconda3/lib/python3.8/site-packages/sklearn/linear_model/_logistic.py:763: ConvergenceWarning: lbfgs failed to converge (status=1):\n",
      "STOP: TOTAL NO. of ITERATIONS REACHED LIMIT.\n",
      "\n",
      "Increase the number of iterations (max_iter) or scale the data as shown in:\n",
      "    https://scikit-learn.org/stable/modules/preprocessing.html\n",
      "Please also refer to the documentation for alternative solver options:\n",
      "    https://scikit-learn.org/stable/modules/linear_model.html#logistic-regression\n",
      "  n_iter_i = _check_optimize_result(\n",
      "/opt/anaconda3/lib/python3.8/site-packages/sklearn/linear_model/_logistic.py:763: ConvergenceWarning: lbfgs failed to converge (status=1):\n",
      "STOP: TOTAL NO. of ITERATIONS REACHED LIMIT.\n",
      "\n",
      "Increase the number of iterations (max_iter) or scale the data as shown in:\n",
      "    https://scikit-learn.org/stable/modules/preprocessing.html\n",
      "Please also refer to the documentation for alternative solver options:\n",
      "    https://scikit-learn.org/stable/modules/linear_model.html#logistic-regression\n",
      "  n_iter_i = _check_optimize_result(\n",
      "/opt/anaconda3/lib/python3.8/site-packages/sklearn/linear_model/_logistic.py:763: ConvergenceWarning: lbfgs failed to converge (status=1):\n",
      "STOP: TOTAL NO. of ITERATIONS REACHED LIMIT.\n",
      "\n",
      "Increase the number of iterations (max_iter) or scale the data as shown in:\n",
      "    https://scikit-learn.org/stable/modules/preprocessing.html\n",
      "Please also refer to the documentation for alternative solver options:\n",
      "    https://scikit-learn.org/stable/modules/linear_model.html#logistic-regression\n",
      "  n_iter_i = _check_optimize_result(\n",
      "/opt/anaconda3/lib/python3.8/site-packages/sklearn/linear_model/_logistic.py:763: ConvergenceWarning: lbfgs failed to converge (status=1):\n",
      "STOP: TOTAL NO. of ITERATIONS REACHED LIMIT.\n",
      "\n",
      "Increase the number of iterations (max_iter) or scale the data as shown in:\n",
      "    https://scikit-learn.org/stable/modules/preprocessing.html\n",
      "Please also refer to the documentation for alternative solver options:\n",
      "    https://scikit-learn.org/stable/modules/linear_model.html#logistic-regression\n",
      "  n_iter_i = _check_optimize_result(\n",
      "/opt/anaconda3/lib/python3.8/site-packages/sklearn/linear_model/_logistic.py:763: ConvergenceWarning: lbfgs failed to converge (status=1):\n",
      "STOP: TOTAL NO. of ITERATIONS REACHED LIMIT.\n",
      "\n",
      "Increase the number of iterations (max_iter) or scale the data as shown in:\n",
      "    https://scikit-learn.org/stable/modules/preprocessing.html\n",
      "Please also refer to the documentation for alternative solver options:\n",
      "    https://scikit-learn.org/stable/modules/linear_model.html#logistic-regression\n",
      "  n_iter_i = _check_optimize_result(\n",
      "/opt/anaconda3/lib/python3.8/site-packages/sklearn/linear_model/_logistic.py:763: ConvergenceWarning: lbfgs failed to converge (status=1):\n",
      "STOP: TOTAL NO. of ITERATIONS REACHED LIMIT.\n",
      "\n",
      "Increase the number of iterations (max_iter) or scale the data as shown in:\n",
      "    https://scikit-learn.org/stable/modules/preprocessing.html\n",
      "Please also refer to the documentation for alternative solver options:\n",
      "    https://scikit-learn.org/stable/modules/linear_model.html#logistic-regression\n",
      "  n_iter_i = _check_optimize_result(\n",
      "/opt/anaconda3/lib/python3.8/site-packages/sklearn/linear_model/_logistic.py:763: ConvergenceWarning: lbfgs failed to converge (status=1):\n",
      "STOP: TOTAL NO. of ITERATIONS REACHED LIMIT.\n",
      "\n",
      "Increase the number of iterations (max_iter) or scale the data as shown in:\n",
      "    https://scikit-learn.org/stable/modules/preprocessing.html\n",
      "Please also refer to the documentation for alternative solver options:\n",
      "    https://scikit-learn.org/stable/modules/linear_model.html#logistic-regression\n",
      "  n_iter_i = _check_optimize_result(\n",
      "/opt/anaconda3/lib/python3.8/site-packages/sklearn/linear_model/_logistic.py:763: ConvergenceWarning: lbfgs failed to converge (status=1):\n",
      "STOP: TOTAL NO. of ITERATIONS REACHED LIMIT.\n",
      "\n",
      "Increase the number of iterations (max_iter) or scale the data as shown in:\n",
      "    https://scikit-learn.org/stable/modules/preprocessing.html\n",
      "Please also refer to the documentation for alternative solver options:\n",
      "    https://scikit-learn.org/stable/modules/linear_model.html#logistic-regression\n",
      "  n_iter_i = _check_optimize_result(\n"
     ]
    },
    {
     "name": "stderr",
     "output_type": "stream",
     "text": [
      "/opt/anaconda3/lib/python3.8/site-packages/sklearn/linear_model/_logistic.py:763: ConvergenceWarning: lbfgs failed to converge (status=1):\n",
      "STOP: TOTAL NO. of ITERATIONS REACHED LIMIT.\n",
      "\n",
      "Increase the number of iterations (max_iter) or scale the data as shown in:\n",
      "    https://scikit-learn.org/stable/modules/preprocessing.html\n",
      "Please also refer to the documentation for alternative solver options:\n",
      "    https://scikit-learn.org/stable/modules/linear_model.html#logistic-regression\n",
      "  n_iter_i = _check_optimize_result(\n",
      "/opt/anaconda3/lib/python3.8/site-packages/sklearn/linear_model/_logistic.py:763: ConvergenceWarning: lbfgs failed to converge (status=1):\n",
      "STOP: TOTAL NO. of ITERATIONS REACHED LIMIT.\n",
      "\n",
      "Increase the number of iterations (max_iter) or scale the data as shown in:\n",
      "    https://scikit-learn.org/stable/modules/preprocessing.html\n",
      "Please also refer to the documentation for alternative solver options:\n",
      "    https://scikit-learn.org/stable/modules/linear_model.html#logistic-regression\n",
      "  n_iter_i = _check_optimize_result(\n",
      "/opt/anaconda3/lib/python3.8/site-packages/sklearn/linear_model/_logistic.py:763: ConvergenceWarning: lbfgs failed to converge (status=1):\n",
      "STOP: TOTAL NO. of ITERATIONS REACHED LIMIT.\n",
      "\n",
      "Increase the number of iterations (max_iter) or scale the data as shown in:\n",
      "    https://scikit-learn.org/stable/modules/preprocessing.html\n",
      "Please also refer to the documentation for alternative solver options:\n",
      "    https://scikit-learn.org/stable/modules/linear_model.html#logistic-regression\n",
      "  n_iter_i = _check_optimize_result(\n",
      "/opt/anaconda3/lib/python3.8/site-packages/sklearn/linear_model/_logistic.py:763: ConvergenceWarning: lbfgs failed to converge (status=1):\n",
      "STOP: TOTAL NO. of ITERATIONS REACHED LIMIT.\n",
      "\n",
      "Increase the number of iterations (max_iter) or scale the data as shown in:\n",
      "    https://scikit-learn.org/stable/modules/preprocessing.html\n",
      "Please also refer to the documentation for alternative solver options:\n",
      "    https://scikit-learn.org/stable/modules/linear_model.html#logistic-regression\n",
      "  n_iter_i = _check_optimize_result(\n",
      "/opt/anaconda3/lib/python3.8/site-packages/sklearn/linear_model/_logistic.py:763: ConvergenceWarning: lbfgs failed to converge (status=1):\n",
      "STOP: TOTAL NO. of ITERATIONS REACHED LIMIT.\n",
      "\n",
      "Increase the number of iterations (max_iter) or scale the data as shown in:\n",
      "    https://scikit-learn.org/stable/modules/preprocessing.html\n",
      "Please also refer to the documentation for alternative solver options:\n",
      "    https://scikit-learn.org/stable/modules/linear_model.html#logistic-regression\n",
      "  n_iter_i = _check_optimize_result(\n",
      "/opt/anaconda3/lib/python3.8/site-packages/sklearn/linear_model/_logistic.py:763: ConvergenceWarning: lbfgs failed to converge (status=1):\n",
      "STOP: TOTAL NO. of ITERATIONS REACHED LIMIT.\n",
      "\n",
      "Increase the number of iterations (max_iter) or scale the data as shown in:\n",
      "    https://scikit-learn.org/stable/modules/preprocessing.html\n",
      "Please also refer to the documentation for alternative solver options:\n",
      "    https://scikit-learn.org/stable/modules/linear_model.html#logistic-regression\n",
      "  n_iter_i = _check_optimize_result(\n",
      "/opt/anaconda3/lib/python3.8/site-packages/sklearn/linear_model/_logistic.py:763: ConvergenceWarning: lbfgs failed to converge (status=1):\n",
      "STOP: TOTAL NO. of ITERATIONS REACHED LIMIT.\n",
      "\n",
      "Increase the number of iterations (max_iter) or scale the data as shown in:\n",
      "    https://scikit-learn.org/stable/modules/preprocessing.html\n",
      "Please also refer to the documentation for alternative solver options:\n",
      "    https://scikit-learn.org/stable/modules/linear_model.html#logistic-regression\n",
      "  n_iter_i = _check_optimize_result(\n",
      "/opt/anaconda3/lib/python3.8/site-packages/sklearn/linear_model/_logistic.py:763: ConvergenceWarning: lbfgs failed to converge (status=1):\n",
      "STOP: TOTAL NO. of ITERATIONS REACHED LIMIT.\n",
      "\n",
      "Increase the number of iterations (max_iter) or scale the data as shown in:\n",
      "    https://scikit-learn.org/stable/modules/preprocessing.html\n",
      "Please also refer to the documentation for alternative solver options:\n",
      "    https://scikit-learn.org/stable/modules/linear_model.html#logistic-regression\n",
      "  n_iter_i = _check_optimize_result(\n",
      "/opt/anaconda3/lib/python3.8/site-packages/sklearn/linear_model/_logistic.py:763: ConvergenceWarning: lbfgs failed to converge (status=1):\n",
      "STOP: TOTAL NO. of ITERATIONS REACHED LIMIT.\n",
      "\n",
      "Increase the number of iterations (max_iter) or scale the data as shown in:\n",
      "    https://scikit-learn.org/stable/modules/preprocessing.html\n",
      "Please also refer to the documentation for alternative solver options:\n",
      "    https://scikit-learn.org/stable/modules/linear_model.html#logistic-regression\n",
      "  n_iter_i = _check_optimize_result(\n",
      "/opt/anaconda3/lib/python3.8/site-packages/sklearn/linear_model/_logistic.py:763: ConvergenceWarning: lbfgs failed to converge (status=1):\n",
      "STOP: TOTAL NO. of ITERATIONS REACHED LIMIT.\n",
      "\n",
      "Increase the number of iterations (max_iter) or scale the data as shown in:\n",
      "    https://scikit-learn.org/stable/modules/preprocessing.html\n",
      "Please also refer to the documentation for alternative solver options:\n",
      "    https://scikit-learn.org/stable/modules/linear_model.html#logistic-regression\n",
      "  n_iter_i = _check_optimize_result(\n"
     ]
    },
    {
     "data": {
      "text/plain": [
       "(LogisticRegression(C=0.1, class_weight='balanced'), 0.7122570142549114)"
      ]
     },
     "execution_count": 93,
     "metadata": {},
     "output_type": "execute_result"
    }
   ],
   "source": [
    "from sklearn.model_selection import GridSearchCV\n",
    "\n",
    "clf = LogisticRegression(class_weight='balanced')\n",
    "Cs = {'C':[0.001,0.1,1,10,100]}\n",
    "model = GridSearchCV(clf,Cs,cv=5,scoring='accuracy')\n",
    "model.fit(X_train,y_train)\n",
    "model.best_estimator_,model.best_score_"
   ]
  },
  {
   "cell_type": "code",
   "execution_count": 94,
   "id": "c15c81d9",
   "metadata": {},
   "outputs": [],
   "source": [
    "clf = LogisticRegression(C=0.1)"
   ]
  },
  {
   "cell_type": "code",
   "execution_count": 95,
   "id": "189e8660",
   "metadata": {},
   "outputs": [
    {
     "name": "stderr",
     "output_type": "stream",
     "text": [
      "/opt/anaconda3/lib/python3.8/site-packages/sklearn/linear_model/_logistic.py:763: ConvergenceWarning: lbfgs failed to converge (status=1):\n",
      "STOP: TOTAL NO. of ITERATIONS REACHED LIMIT.\n",
      "\n",
      "Increase the number of iterations (max_iter) or scale the data as shown in:\n",
      "    https://scikit-learn.org/stable/modules/preprocessing.html\n",
      "Please also refer to the documentation for alternative solver options:\n",
      "    https://scikit-learn.org/stable/modules/linear_model.html#logistic-regression\n",
      "  n_iter_i = _check_optimize_result(\n"
     ]
    },
    {
     "data": {
      "text/plain": [
       "LogisticRegression(C=0.1)"
      ]
     },
     "execution_count": 95,
     "metadata": {},
     "output_type": "execute_result"
    }
   ],
   "source": [
    "clf.fit(X_train,y_train)"
   ]
  },
  {
   "cell_type": "code",
   "execution_count": 96,
   "id": "bb0d2245",
   "metadata": {},
   "outputs": [],
   "source": [
    "y_predlr = clf.predict(X_test)"
   ]
  },
  {
   "cell_type": "code",
   "execution_count": 98,
   "id": "5eb400c7",
   "metadata": {},
   "outputs": [
    {
     "name": "stdout",
     "output_type": "stream",
     "text": [
      "Accuracy score: 0.7078125\n"
     ]
    }
   ],
   "source": [
    "accscore = accuracy_score(y_predlr,y_test)\n",
    "print('Accuracy score:',accscore)"
   ]
  },
  {
   "cell_type": "code",
   "execution_count": 100,
   "id": "e99c4d9a",
   "metadata": {},
   "outputs": [
    {
     "name": "stdout",
     "output_type": "stream",
     "text": [
      "6200 3058 2365 6937\n"
     ]
    }
   ],
   "source": [
    "from sklearn.metrics import confusion_matrix\n",
    "\n",
    "tn,fp,fn,tp = confusion_matrix(y_test,y_predlr).ravel()\n",
    "print(tn,fp,fn,tp)"
   ]
  },
  {
   "cell_type": "markdown",
   "id": "1f1aab3f",
   "metadata": {},
   "source": [
    "### Model Summary \n",
    "\n",
    "After exploring our data we discovered that avg_distance is our most important feature, followed by % of trips occuring during a weekday and a user's average rating by a driver. These are factors that need to be taken into consideration when trying to establish some sort of program that will increase/maintain retained members. For avg_distance I would focus on keeping costs down so that these users will continue to choose our services -- once prices go too high users might not consider using the service for longer distances. Maybe offer a discount for those who take multiple trips a week? It does look like users who are more courteous to drivers tend to be retained -- higher average ratings by drivers. We only tested two models here but it came out that RandomForest was our best bet. Accuracy score was much higher and looking at precision/recall through our confusion matrix it looks like it's a no brainer to choose RF over Logistic Regression. "
   ]
  },
  {
   "cell_type": "code",
   "execution_count": null,
   "id": "814c90ad",
   "metadata": {},
   "outputs": [],
   "source": []
  }
 ],
 "metadata": {
  "kernelspec": {
   "display_name": "Python 3",
   "language": "python",
   "name": "python3"
  },
  "language_info": {
   "codemirror_mode": {
    "name": "ipython",
    "version": 3
   },
   "file_extension": ".py",
   "mimetype": "text/x-python",
   "name": "python",
   "nbconvert_exporter": "python",
   "pygments_lexer": "ipython3",
   "version": "3.8.5"
  }
 },
 "nbformat": 4,
 "nbformat_minor": 5
}
